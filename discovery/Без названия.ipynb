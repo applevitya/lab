{
 "cells": [
  {
   "cell_type": "code",
   "execution_count": 1,
   "id": "874e88dc",
   "metadata": {},
   "outputs": [],
   "source": [
    "def alignment():\n",
    "    print('aligment start')\n",
    "    position = np.zeros(64)\n",
    "    position[20] = position[21] = 1\n",
    "    # Создаем массив значений\n",
    "    value = np.zeros(64)\n",
    "    values = [measure(i + 1) for i in range(len(position)) if position[i] == 1]\n",
    "    value[position == 1] = values\n",
    "    print(value[20])\n",
    "\n",
    "    # Находим максимальное значение и индекс элемента с максимальным значением\n",
    "    max_value = np.max(values)\n",
    "\n",
    "    # Первоначально все элементы не меняем\n",
    "    array = np.zeros(64)\n",
    "\n",
    "    # Пока все значения не сравняются с точностью +-0.015 для самого большого изначального числа\n",
    "    while np.any(np.abs(value[position == 1] - max_value) > 0.05):\n",
    "        # Устанавливаем 1 на месте элементов, которые необходимо изменить\n",
    "        array[position == 1] = np.where(np.abs(value[position == 1] - max_value) > 0.05, 1, array[position == 1])\n",
    "        array = array.reshape((8,8))\n",
    "        array = np.flip(array,axis=1)\n",
    "        array = array.reshape((64,))\n",
    "\n",
    "        print(array)\n",
    "\n",
    "        # Запускаем функцию изменения параметров элементов\n",
    "        dynamic_digital.led_matrix(hdwf, 6, 7, 5, list(array))\n",
    "\n",
    "        # Ждем некоторое время, чтобы изменения успели примениться\n",
    "        time.sleep(0.01)\n",
    "        dynamic_digital.led_matrix(hdwf, 6, 7, 5, led_off)\n",
    "\n",
    "        # Считываем новые значения и обновляем массив значений\n",
    "        values = [measure(i + 1) for i in range(len(position)) if position[i] == 1]\n",
    "        value[position == 1] = values\n",
    "\n",
    "    return value"
   ]
  },
  {
   "cell_type": "code",
   "execution_count": 169,
   "id": "b65931f4",
   "metadata": {},
   "outputs": [],
   "source": [
    "import numpy as np"
   ]
  },
  {
   "cell_type": "code",
   "execution_count": 226,
   "id": "4ce98774",
   "metadata": {},
   "outputs": [],
   "source": [
    "position = np.zeros(64)\n",
    "position[20] = position[21] = 1\n",
    "\n",
    "\n",
    "value = np.zeros(64)\n",
    "values = [1.6 for i in range(len(position)) if position[i] == 1]\n",
    "value[position == 1] = values"
   ]
  },
  {
   "cell_type": "code",
   "execution_count": 244,
   "id": "a1f46d73",
   "metadata": {},
   "outputs": [
    {
     "name": "stdout",
     "output_type": "stream",
     "text": [
      "[0.  0.  0.  0.  0.  0.  0.  0.  0.  0.  0.  0.  0.  0.  0.  0.  0.  0.\n",
      " 0.  0.  1.3 1.3 0.  0.  0.  0.  0.  0.  0.  0.  0.  0.  0.  0.  0.  0.\n",
      " 0.  0.  0.  0.  0.  0.  0.  0.  0.  0.  0.  0.  0.  0.  0.  0.  0.  0.\n",
      " 0.  0.  0.  0.  0.  0.  0.  0.  0.  0. ]\n",
      "20\n"
     ]
    }
   ],
   "source": [
    "print(value)\n",
    "max_value = np.max(values)\n",
    "max_index = np.argmax(values)\n",
    "print(np.argmax(value))\n"
   ]
  },
  {
   "cell_type": "code",
   "execution_count": 250,
   "id": "e5037fc3",
   "metadata": {},
   "outputs": [],
   "source": [
    "array = np.zeros(64)\n",
    "value[21]= 0.8"
   ]
  },
  {
   "cell_type": "code",
   "execution_count": 251,
   "id": "54a31383",
   "metadata": {},
   "outputs": [
    {
     "data": {
      "text/plain": [
       "array([1.3, 0.8])"
      ]
     },
     "execution_count": 251,
     "metadata": {},
     "output_type": "execute_result"
    }
   ],
   "source": [
    "np.abs(value[position == 1])"
   ]
  },
  {
   "cell_type": "code",
   "execution_count": 256,
   "id": "11e9359f",
   "metadata": {},
   "outputs": [
    {
     "name": "stdout",
     "output_type": "stream",
     "text": [
      "[0. 0. 0. 0. 0. 0. 0. 0. 0. 0. 0. 0. 0. 0. 0. 0. 0. 0. 1. 0. 0. 0. 0. 0.\n",
      " 0. 0. 0. 0. 0. 0. 0. 0. 0. 0. 0. 0. 0. 0. 0. 0. 0. 0. 0. 0. 0. 0. 0. 0.\n",
      " 0. 0. 0. 0. 0. 0. 0. 0. 0. 0. 0. 0. 0. 0. 0. 0.]\n"
     ]
    }
   ],
   "source": [
    "array = np.zeros(64)\n",
    "array[position == 1] = np.where(np.abs(value[position == 1] - max_value) > 0.1666, 1, array[position == 1])\n",
    "array = array.reshape((8,8))\n",
    "array = np.flip(array,axis=1)\n",
    "array = array.reshape((64,))\n",
    "print(array)"
   ]
  },
  {
   "cell_type": "code",
   "execution_count": 257,
   "id": "c9ddcf58",
   "metadata": {},
   "outputs": [],
   "source": [
    "values = [1.3 for i in range(len(position)) if position[i] == 1]\n",
    "value[position == 1] = values"
   ]
  },
  {
   "cell_type": "code",
   "execution_count": 242,
   "id": "eaf17ff0",
   "metadata": {},
   "outputs": [
    {
     "name": "stdout",
     "output_type": "stream",
     "text": [
      "[0.  0.  0.  0.  0.  0.  0.  0.  0.  0.  0.  0.  0.  0.  0.  0.  0.  0.\n",
      " 0.  0.  1.3 1.3 0.  0.  0.  0.  0.  0.  0.  0.  0.  0.  0.  0.  0.  0.\n",
      " 0.  0.  0.  0.  0.  0.  0.  0.  0.  0.  0.  0.  0.  0.  0.  0.  0.  0.\n",
      " 0.  0.  0.  0.  0.  0.  0.  0.  0.  0. ]\n"
     ]
    }
   ],
   "source": [
    "print(value)"
   ]
  },
  {
   "cell_type": "code",
   "execution_count": 254,
   "id": "c7d4a437",
   "metadata": {},
   "outputs": [
    {
     "name": "stdout",
     "output_type": "stream",
     "text": [
      "[0. 0. 0. 0. 0. 0. 0. 0. 0. 0. 0. 0. 0. 0. 0. 0. 0. 0. 1. 0. 0. 0. 0. 0.\n",
      " 0. 0. 0. 0. 0. 0. 0. 0. 0. 0. 0. 0. 0. 0. 0. 0. 0. 0. 0. 0. 0. 0. 0. 0.\n",
      " 0. 0. 0. 0. 0. 0. 0. 0. 0. 0. 0. 0. 0. 0. 0. 0.]\n"
     ]
    }
   ],
   "source": [
    "array = np.zeros(64)\n",
    "array[position == 1] = np.where(np.abs(value[position == 1] - max_value) > 0.1666, 1, array[position == 1])\n",
    "array = array.reshape((8,8))\n",
    "array = np.flip(array,axis=1)\n",
    "array = array.reshape((64,))\n",
    "print(array)"
   ]
  },
  {
   "cell_type": "code",
   "execution_count": null,
   "id": "78143462",
   "metadata": {},
   "outputs": [],
   "source": []
  },
  {
   "cell_type": "code",
   "execution_count": null,
   "id": "d1f9ba9d",
   "metadata": {},
   "outputs": [],
   "source": []
  }
 ],
 "metadata": {
  "kernelspec": {
   "display_name": "Python 3 (ipykernel)",
   "language": "python",
   "name": "python3"
  },
  "language_info": {
   "codemirror_mode": {
    "name": "ipython",
    "version": 3
   },
   "file_extension": ".py",
   "mimetype": "text/x-python",
   "name": "python",
   "nbconvert_exporter": "python",
   "pygments_lexer": "ipython3",
   "version": "3.11.0"
  }
 },
 "nbformat": 4,
 "nbformat_minor": 5
}
