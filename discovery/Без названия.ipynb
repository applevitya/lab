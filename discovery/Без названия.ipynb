{
 "cells": [
  {
   "cell_type": "code",
   "execution_count": 1,
   "id": "2f25d7b0",
   "metadata": {},
   "outputs": [],
   "source": [
    "def alignment():\n",
    "    print('aligment start')\n",
    "    position = np.zeros(64)\n",
    "    position[20] = position[21] = 1\n",
    "    # Создаем массив значений\n",
    "    value = np.zeros(64)\n",
    "    values = [measure(i + 1) for i in range(len(position)) if position[i] == 1]\n",
    "    value[position == 1] = values\n",
    "    print(value[20])\n",
    "\n",
    "    # Находим максимальное значение и индекс элемента с максимальным значением\n",
    "    max_value = np.max(values)\n",
    "\n",
    "    # Первоначально все элементы не меняем\n",
    "    array = np.zeros(64)\n",
    "\n",
    "    # Пока все значения не сравняются с точностью +-0.015 для самого большого изначального числа\n",
    "    while np.any(np.abs(value[position == 1] - max_value) > 0.05):\n",
    "        # Устанавливаем 1 на месте элементов, которые необходимо изменить\n",
    "        array[position == 1] = np.where(np.abs(value[position == 1] - max_value) > 0.05, 1, array[position == 1])\n",
    "        array = array.reshape((8,8))\n",
    "        array = np.flip(array,axis=1)\n",
    "        array = array.reshape((64,))\n",
    "\n",
    "        print(array)\n",
    "\n",
    "        # Запускаем функцию изменения параметров элементов\n",
    "        dynamic_digital.led_matrix(hdwf, 6, 7, 5, list(array))\n",
    "\n",
    "        # Ждем некоторое время, чтобы изменения успели примениться\n",
    "        time.sleep(0.01)\n",
    "        dynamic_digital.led_matrix(hdwf, 6, 7, 5, led_off)\n",
    "\n",
    "        # Считываем новые значения и обновляем массив значений\n",
    "        values = [measure(i + 1) for i in range(len(position)) if position[i] == 1]\n",
    "        value[position == 1] = values\n",
    "\n",
    "    return value"
   ]
  },
  {
   "cell_type": "code",
   "execution_count": 169,
   "id": "f49434b5",
   "metadata": {},
   "outputs": [],
   "source": [
    "import numpy as np"
   ]
  },
  {
   "cell_type": "code",
   "execution_count": 226,
   "id": "1654874d",
   "metadata": {},
   "outputs": [],
   "source": [
    "position = np.zeros(64)\n",
    "position[20] = position[21] = 1\n",
    "\n",
    "\n",
    "value = np.zeros(64)\n",
    "values = [1.6 for i in range(len(position)) if position[i] == 1]\n",
    "value[position == 1] = values"
   ]
  },
  {
   "cell_type": "code",
   "execution_count": 244,
   "id": "cb5cc087",
   "metadata": {},
   "outputs": [
    {
     "name": "stdout",
     "output_type": "stream",
     "text": [
      "[0.  0.  0.  0.  0.  0.  0.  0.  0.  0.  0.  0.  0.  0.  0.  0.  0.  0.\n",
      " 0.  0.  1.3 1.3 0.  0.  0.  0.  0.  0.  0.  0.  0.  0.  0.  0.  0.  0.\n",
      " 0.  0.  0.  0.  0.  0.  0.  0.  0.  0.  0.  0.  0.  0.  0.  0.  0.  0.\n",
      " 0.  0.  0.  0.  0.  0.  0.  0.  0.  0. ]\n",
      "20\n"
     ]
    }
   ],
   "source": [
    "print(value)\n",
    "max_value = np.max(values)\n",
    "max_index = np.argmax(values)\n",
    "print(np.argmax(value))\n"
   ]
  },
  {
   "cell_type": "code",
   "execution_count": 250,
   "id": "adc1f4ec",
   "metadata": {},
   "outputs": [],
   "source": [
    "array = np.zeros(64)\n",
    "value[21]= 0.8"
   ]
  },
  {
   "cell_type": "code",
   "execution_count": 251,
   "id": "954d2ccd",
   "metadata": {},
   "outputs": [
    {
     "data": {
      "text/plain": [
       "array([1.3, 0.8])"
      ]
     },
     "execution_count": 251,
     "metadata": {},
     "output_type": "execute_result"
    }
   ],
   "source": [
    "np.abs(value[position == 1])"
   ]
  },
  {
   "cell_type": "code",
   "execution_count": 256,
   "id": "d41c6e2a",
   "metadata": {},
   "outputs": [
    {
     "name": "stdout",
     "output_type": "stream",
     "text": [
      "[0. 0. 0. 0. 0. 0. 0. 0. 0. 0. 0. 0. 0. 0. 0. 0. 0. 0. 1. 0. 0. 0. 0. 0.\n",
      " 0. 0. 0. 0. 0. 0. 0. 0. 0. 0. 0. 0. 0. 0. 0. 0. 0. 0. 0. 0. 0. 0. 0. 0.\n",
      " 0. 0. 0. 0. 0. 0. 0. 0. 0. 0. 0. 0. 0. 0. 0. 0.]\n"
     ]
    }
   ],
   "source": [
    "array = np.zeros(64)\n",
    "array[position == 1] = np.where(np.abs(value[position == 1] - max_value) > 0.1666, 1, array[position == 1])\n",
    "array = array.reshape((8,8))\n",
    "array = np.flip(array,axis=1)\n",
    "array = array.reshape((64,))\n",
    "print(array)"
   ]
  },
  {
   "cell_type": "code",
   "execution_count": 260,
   "id": "cbe5721d",
   "metadata": {},
   "outputs": [],
   "source": [
    "values = [1.3 for i in range(len(position)) if position[i] == 1]\n",
    "value[position == 1] = values"
   ]
  },
  {
   "cell_type": "code",
   "execution_count": 261,
   "id": "095c6b3a",
   "metadata": {},
   "outputs": [
    {
     "name": "stdout",
     "output_type": "stream",
     "text": [
      "[0.  0.  0.  0.  0.  0.  0.  0.  0.  0.  0.  0.  0.  0.  0.  0.  0.  0.\n",
      " 0.  0.  1.3 1.3 0.  0.  0.  0.  0.  0.  0.  0.  0.  0.  0.  0.  0.  0.\n",
      " 0.  0.  0.  0.  0.  0.  0.  0.  0.  0.  0.  0.  0.  0.  0.  0.  0.  0.\n",
      " 0.  0.  0.  0.  0.  0.  0.  0.  0.  0. ]\n"
     ]
    }
   ],
   "source": [
    "print(value)"
   ]
  },
  {
   "cell_type": "code",
   "execution_count": 262,
   "id": "761b6e9b",
   "metadata": {},
   "outputs": [
    {
     "name": "stdout",
     "output_type": "stream",
     "text": [
      "[0. 0. 0. 0. 0. 0. 0. 0. 0. 0. 0. 0. 0. 0. 0. 0. 0. 0. 0. 0. 0. 0. 0. 0.\n",
      " 0. 0. 0. 0. 0. 0. 0. 0. 0. 0. 0. 0. 0. 0. 0. 0. 0. 0. 0. 0. 0. 0. 0. 0.\n",
      " 0. 0. 0. 0. 0. 0. 0. 0. 0. 0. 0. 0. 0. 0. 0. 0.]\n"
     ]
    }
   ],
   "source": [
    "array = np.zeros(64)\n",
    "array[position == 1] = np.where(np.abs(value[position == 1] - max_value) > 0.1666, 1, array[position == 1])\n",
    "array = array.reshape((8,8))\n",
    "array = np.flip(array,axis=1)\n",
    "array = array.reshape((64,))\n",
    "print(array)"
   ]
  },
  {
   "cell_type": "code",
   "execution_count": null,
   "id": "bd3d9cd6",
   "metadata": {},
   "outputs": [],
   "source": []
  },
  {
   "cell_type": "code",
   "execution_count": 12,
   "id": "b66377e9",
   "metadata": {},
   "outputs": [],
   "source": [
    "import time\n",
    "\n",
    "# Функция measure, которая возвращает значение и текущее время\n",
    "def measure():\n",
    "    return 42  # Пример значения, замените на реальный вызов функции\n",
    "\n",
    "weights_array = []\n",
    "\n",
    "start_time = time.time()\n",
    "while len(weights_array)<10:\n",
    "    value = measure()\n",
    "    current_time = time.time() - start_time  \n",
    "    # current_time = time.strftime(\"%S\", time.localtime())\n",
    "    time.sleep(1)\n",
    "    weights_array.append((value, current_time))\n",
    "    time.sleep(1)\n",
    "    "
   ]
  },
  {
   "cell_type": "code",
   "execution_count": 15,
   "id": "8bb457d6",
   "metadata": {},
   "outputs": [],
   "source": [
    "import numpy as np"
   ]
  },
  {
   "cell_type": "code",
   "execution_count": 16,
   "id": "6c8a42ba",
   "metadata": {},
   "outputs": [
    {
     "data": {
      "text/plain": [
       "[(42, 0.00017595291137695312),\n",
       " (42, 2.0004630088806152),\n",
       " (42, 4.00451397895813),\n",
       " (42, 6.007872819900513),\n",
       " (42, 8.010517835617065),\n",
       " (42, 10.010979890823364),\n",
       " (42, 12.015784978866577),\n",
       " (42, 14.020681142807007),\n",
       " (42, 16.02558994293213),\n",
       " (42, 18.03240990638733)]"
      ]
     },
     "execution_count": 16,
     "metadata": {},
     "output_type": "execute_result"
    }
   ],
   "source": [
    "weights_array"
   ]
  },
  {
   "cell_type": "code",
   "execution_count": 17,
   "id": "cf675f76",
   "metadata": {},
   "outputs": [
    {
     "data": {
      "text/plain": [
       "array([[4.20000000e+01, 1.75952911e-04],\n",
       "       [4.20000000e+01, 2.00046301e+00],\n",
       "       [4.20000000e+01, 4.00451398e+00],\n",
       "       [4.20000000e+01, 6.00787282e+00],\n",
       "       [4.20000000e+01, 8.01051784e+00],\n",
       "       [4.20000000e+01, 1.00109799e+01],\n",
       "       [4.20000000e+01, 1.20157850e+01],\n",
       "       [4.20000000e+01, 1.40206811e+01],\n",
       "       [4.20000000e+01, 1.60255899e+01],\n",
       "       [4.20000000e+01, 1.80324099e+01]])"
      ]
     },
     "execution_count": 17,
     "metadata": {},
     "output_type": "execute_result"
    }
   ],
   "source": [
    "np.array(weights_array)"
   ]
  },
  {
   "cell_type": "code",
   "execution_count": 113,
   "id": "f857c82d",
   "metadata": {},
   "outputs": [],
   "source": [
    "import numpy as np\n",
    "\n",
    "pic = np.loadtxt('experiment/start.txt')\n",
    "pic = pic*2.2987315479909154/255"
   ]
  },
  {
   "cell_type": "code",
   "execution_count": 96,
   "id": "4ed11be2",
   "metadata": {},
   "outputs": [
    {
     "data": {
      "text/plain": [
       "array([1.11292279, 0.96753901, 1.17372978, 0.99095971, 1.08989437,\n",
       "       0.75091897, 1.05007617, 2.14527179, 1.25582662, 1.11524736,\n",
       "       0.78486093, 2.09081209, 1.02309403, 1.98132971, 1.06561453,\n",
       "       1.22494565, 0.95833267, 2.05944673, 0.82765216, 0.7914487 ,\n",
       "       1.04819545, 1.05638004, 0.6900427 , 1.17378035, 0.41839216])"
      ]
     },
     "execution_count": 96,
     "metadata": {},
     "output_type": "execute_result"
    }
   ],
   "source": []
  },
  {
   "cell_type": "code",
   "execution_count": 114,
   "id": "9c6b0a2f",
   "metadata": {},
   "outputs": [],
   "source": [
    "pic = pic.reshape(-1)"
   ]
  },
  {
   "cell_type": "code",
   "execution_count": 115,
   "id": "21db5133",
   "metadata": {},
   "outputs": [],
   "source": [
    "indexes = list(range(19, 25)) + list(range(27, 33)) + [34] + list(range(36, 41)) + list(range(43, 49)) + list(range(49, 50))\n"
   ]
  },
  {
   "cell_type": "code",
   "execution_count": 116,
   "id": "58c9e77e",
   "metadata": {},
   "outputs": [],
   "source": [
    "weights = [0] * 64"
   ]
  },
  {
   "cell_type": "code",
   "execution_count": 117,
   "id": "6c9137a9",
   "metadata": {},
   "outputs": [],
   "source": [
    "for i, index in enumerate(indexes):\n",
    "    weights[index-1] = pic[i]"
   ]
  },
  {
   "cell_type": "code",
   "execution_count": 134,
   "id": "a866a367",
   "metadata": {},
   "outputs": [
    {
     "data": {
      "text/plain": [
       "1.0500761743509934"
      ]
     },
     "execution_count": 134,
     "metadata": {},
     "output_type": "execute_result"
    }
   ],
   "source": [
    "weights[27-1]"
   ]
  },
  {
   "cell_type": "code",
   "execution_count": null,
   "id": "5328a6a3",
   "metadata": {},
   "outputs": [],
   "source": []
  }
 ],
 "metadata": {
  "kernelspec": {
   "display_name": "Python 3 (ipykernel)",
   "language": "python",
   "name": "python3"
  },
  "language_info": {
   "codemirror_mode": {
    "name": "ipython",
    "version": 3
   },
   "file_extension": ".py",
   "mimetype": "text/x-python",
   "name": "python",
   "nbconvert_exporter": "python",
   "pygments_lexer": "ipython3",
   "version": "3.11.6"
  }
 },
 "nbformat": 4,
 "nbformat_minor": 5
}
