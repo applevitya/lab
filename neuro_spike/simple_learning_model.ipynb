{
 "cells": [
  {
   "cell_type": "code",
   "execution_count": 2,
   "id": "e5f664ee",
   "metadata": {},
   "outputs": [],
   "source": [
    "import numpy as np\n",
    "import pandas as pd\n",
    "import random\n",
    "import matplotlib.pyplot as plt\n",
    "import cv2\n",
    "import csv\n",
    "import math"
   ]
  },
  {
   "attachments": {},
   "cell_type": "markdown",
   "id": "69659ddb",
   "metadata": {},
   "source": [
    "## param"
   ]
  },
  {
   "cell_type": "code",
   "execution_count": 294,
   "id": "71acf463",
   "metadata": {},
   "outputs": [],
   "source": [
    "x_pixel = 8\n",
    "epochs = 1\n",
    "out_pixels = 64\n",
    "\n",
    "with open('weights.csv', 'wb') as myfile:\n",
    "  x = np.random.uniform(0,0.1,size = [65,64])\n",
    "  np.savetxt( \"weights.csv\", x, delimiter=\",\" )\n",
    "\n",
    "\n",
    "def read_img():\n",
    "\n",
    "\timg = cv2.imread(\"2.png\", 0)\n",
    "\timg2 = cv2.imread(\"2.png\",0)\n",
    "\n",
    "\timg = np.ndarray.flatten(img)\n",
    "\treturn img\n",
    "\n",
    "def read_dataset():\n",
    "\tdf = pd.read_csv(\"weights.csv\" )\n",
    "\tdf = df.values\n",
    "\treturn df\n",
    "\n",
    "def recon_weights(W):\n",
    "\t\n",
    "\ttemp = W[i]\n",
    "\trecon = np.reshape(temp,(x_pixel,x_pixel))*255\n",
    "\tcv2.imwrite(\"reconstract\" + \".png\",recon)\n",
    "\t\n",
    "\n",
    "x = read_img()\n",
    "normalized = (x-np.min(x))/float(np.max(x)-np.min(x))*50\n"
   ]
  },
  {
   "attachments": {},
   "cell_type": "markdown",
   "id": "4241ac4d",
   "metadata": {},
   "source": [
    "## neuron class"
   ]
  },
  {
   "cell_type": "code",
   "execution_count": 295,
   "id": "11a67d6f",
   "metadata": {},
   "outputs": [],
   "source": [
    "class LIFneuronConfig():\n",
    "    def __init__(self,):\n",
    "        self.R = 10 # resistance (k-Ohm)\n",
    "        self.C = 10 # capacitance (u-F)\n",
    "\n",
    "        self.v_thresh = 0.05\n",
    "        self.v_spike = 1\n",
    "        self.v_base = 0\n",
    "        \n",
    "        self.tau_m = self.R*self.C # time constant (msec)\n",
    "        self.refracTime = 0.2 # refractory time (msec)\n",
    "        self.initRefrac = 0\n",
    "\n",
    "        self.noise_amp = 0\n",
    "\n",
    "        self.isPlot = 1\n",
    "\n",
    "\n",
    "class LIF():\n",
    "    def __init__(self):\n",
    "        LIFneuronConfig.__init__(self,)\n",
    "        self.num=0 #numbers of spikes\n",
    "        self.isNoise = 0\n",
    "        self.vprev = self.v_base\n",
    "\n",
    "    def noiseTerm(self,dt):\n",
    "        sigma = self.noise_amp\n",
    "\n",
    "        y = np.random.normal(0,1,1)\n",
    "        return sigma*math.sqrt(dt)*y\n",
    "\n",
    "    def generateSpiking(self, I, t, dt):\n",
    "\n",
    "        v = self.v_base\n",
    "        if t >= self.initRefrac:\n",
    "            noise = 0\n",
    "            if self.isNoise:\n",
    "                noise = self.noiseTerm(dt)\n",
    "\n",
    "            v = self.vprev + (-self.vprev + I*self.R) / self.tau_m * dt +noise\n",
    "            if v >= self.v_thresh:\n",
    "                self.num+=1\n",
    "                v += self.v_spike\n",
    "                self.initRefrac = t + self.refracTime\n",
    "        self.vprev = v \n",
    "        return v\n",
    "    \n",
    "    def check(self):\n",
    "      if self.vprev >= self.v_thresh:\n",
    "        return 1\n",
    "      else:\n",
    "        return 0\n",
    "\n",
    "\n",
    "\n",
    "\n",
    "class LIF_simple():\n",
    "  def __init__(self):\n",
    "    LIFneuronConfig.__init__(self,)\n",
    "    self.num=0 \n",
    "    self.vprev = self.v_base\n",
    "\n",
    "  def generateSpiking(self,I,t,dt):\n",
    "    v = self.v_base\n",
    "\n",
    "    if t >= self.initRefrac:\n",
    "      \n",
    "      v = self.vprev + (-self.vprev + I*self.R) / self.tau_m * dt\n",
    "        \n",
    "      if v >= self.v_thresh:\n",
    "        self.num+=1\n",
    "        v += self.v_spike\n",
    "        self.initRefrac = t + self.refracTime\n",
    "\n",
    "    self.vprev = v \n",
    "    return v\n",
    "\n",
    "\n",
    "def PlotNeuron(model, time, dt, I):\n",
    "    neuron = model\n",
    "    v = np.zeros_like(time)\n",
    "\n",
    "    for i, t in enumerate(time):\n",
    "        v[i] = neuron.generateSpiking(I[i], t, dt)\n",
    "\n",
    "    if model.isPlot:\n",
    "        plt.plot(t_span,v, label = 'V')\n",
    "        plt.vlines(t_span, [0], I, label = 'input spikes',linewidth=0.5)\n",
    "        plt.title('Neuron Model LIF')\n",
    "        plt.ylabel('Membrane Potential (V) and input current(I)')\n",
    "        plt.xlabel('Time (msec)')\n",
    "        plt.grid()\n",
    "        plt.legend(loc=\"upper right\")\n",
    "        plt.show()\n",
    "    return v\n",
    "\n",
    "\n",
    "def count_spikes(array):\n",
    "  count = 0\n",
    "  maximum = max(array)\n",
    "  for i in array:\n",
    "    if i == 1 :\n",
    "      count +=1\n",
    "  return count\n",
    "\n"
   ]
  },
  {
   "attachments": {},
   "cell_type": "markdown",
   "id": "39d727c6",
   "metadata": {},
   "source": [
    "### time range"
   ]
  },
  {
   "cell_type": "code",
   "execution_count": 296,
   "id": "ee19ea9f",
   "metadata": {},
   "outputs": [],
   "source": [
    "#time series\n",
    "T = 100 #ms\n",
    "dt = 0.1\n",
    "time = np.arange(0,T+dt,dt)\n",
    "\n",
    "#Synapses weight\n",
    "W = read_dataset()"
   ]
  },
  {
   "cell_type": "code",
   "execution_count": 297,
   "id": "f797ce49",
   "metadata": {},
   "outputs": [
    {
     "data": {
      "image/png": "[encoded data removed]",
      "text/plain": [
       "<Figure size 432x288 with 1 Axes>"
      ]
     },
     "metadata": {
      "needs_background": "light"
     },
     "output_type": "display_data"
    },
    {
     "name": "stdout",
     "output_type": "stream",
     "text": [
      "79  spikes neuron \n"
     ]
    },
    {
     "data": {
      "text/plain": [
       "501"
      ]
     },
     "execution_count": 297,
     "metadata": {},
     "output_type": "execute_result"
    }
   ],
   "source": [
    "t_span = np.arange(0, T+dt, dt)\n",
    "I = [1 if i%2==0  else 0 for i in range(len(time))]\n",
    "neuron = LIF_simple()\n",
    "PlotNeuron(neuron, time, dt, I);\n",
    "print(neuron.num, ' spikes neuron ')\n",
    "count_spikes(I)"
   ]
  },
  {
   "attachments": {},
   "cell_type": "markdown",
   "id": "bc32cbae",
   "metadata": {},
   "source": [
    "# Encoding input images to input spikes"
   ]
  },
  {
   "cell_type": "code",
   "execution_count": 298,
   "id": "5c509af9",
   "metadata": {},
   "outputs": [],
   "source": [
    "def Poisson_generator(time,dt,rate, n, myseed=False):\n",
    "  \"\"\"\n",
    "  Generates poisson trains\n",
    "\n",
    "  Args:\n",
    "    rate            : noise amplitute [Hz]\n",
    "    n               : number of Poisson trains\n",
    "    myseed          : random seed. int or boolean\n",
    "\n",
    "  Returns:\n",
    "    pre_spike_train : spike train matrix, ith row represents whether\n",
    "                      there is a spike in ith spike train over time\n",
    "                      (1 if spike, 0 otherwise)\n",
    "  \"\"\"\n",
    "\n",
    "  # Retrieve simulation parameters\n",
    "  range_t = np.arange(0, time+dt, dt)  # Vector of discretized time points [ms]\n",
    "  Lt = range_t.size\n",
    "\n",
    "  # set random seed\n",
    "  if myseed:\n",
    "      np.random.seed(seed=myseed)\n",
    "  else:\n",
    "      np.random.seed()\n",
    "\n",
    "  # generate uniformly distributed random variables\n",
    "  u_rand = np.random.rand(n, Lt)\n",
    "\n",
    "  # generate Poisson train\n",
    "  poisson_train = 1. * (u_rand < rate * (dt / 100))\n",
    "\n",
    "  return poisson_train"
   ]
  },
  {
   "attachments": {},
   "cell_type": "markdown",
   "id": "7b741375",
   "metadata": {},
   "source": [
    "# Neural network"
   ]
  },
  {
   "cell_type": "code",
   "execution_count": 441,
   "id": "97880290",
   "metadata": {},
   "outputs": [],
   "source": [
    "# input neuron spikes\n",
    "#x = np.random.rand(8,8)*255\n",
    "#x = x.flatten()\n",
    "\n",
    "#time series\n",
    "T = 100 #ms\n",
    "dt = 0.1\n",
    "time = np.arange(0,T+dt,dt)\n",
    "\n",
    "#Synapses weight\n",
    "W = read_dataset()\n",
    "\n",
    "\n",
    "in_spikes = np.empty(shape=(x_pixel**2,len(time)))\n",
    "for i in range(x_pixel*x_pixel):\n",
    "  in_spikes[i]=Poisson_generator(T,dt,x[i],1)\n",
    "\n",
    "out_spikes = np.zeros(shape=(out_pixels,len(time)))\n",
    "\n",
    "out_neurons = []\n",
    "# creating the output layer of neurons\n",
    "for i in range(out_pixels):\n",
    "\ta = LIF_simple()\n",
    "\tout_neurons.append(a)\n",
    "\n",
    "\n",
    "def update(w, dt):\n",
    "  if dt > 0:\n",
    "    w += 0.1* np.exp(-dt /100)\n",
    "  else:\n",
    "    w -= 0.1* np.exp(dt /100)\n",
    "  \n",
    "  if w>1 and w<0:\n",
    "    w=0\n",
    "  return w"
   ]
  },
  {
   "cell_type": "code",
   "execution_count": 442,
   "id": "479befea",
   "metadata": {},
   "outputs": [
    {
     "data": {
      "text/plain": [
       "-0.04307402224980617"
      ]
     },
     "execution_count": 442,
     "metadata": {},
     "output_type": "execute_result"
    }
   ],
   "source": [
    "update(W[1][7],-1)"
   ]
  },
  {
   "cell_type": "code",
   "execution_count": 435,
   "id": "c0e5bdbf",
   "metadata": {},
   "outputs": [
    {
     "data": {
      "text/plain": [
       "0.05593096112511064"
      ]
     },
     "execution_count": 435,
     "metadata": {},
     "output_type": "execute_result"
    }
   ],
   "source": [
    "W[1][7]"
   ]
  },
  {
   "cell_type": "code",
   "execution_count": 318,
   "id": "b10b0ce7",
   "metadata": {},
   "outputs": [],
   "source": [
    "last_index=0\n",
    "\n",
    "\n",
    "membrane_pot = []\n",
    "I = np.zeros(shape=(x_pixel**2,))\n",
    "for t in range(len(time)):\n",
    "\n",
    "  \n",
    "  for j,neu in enumerate(out_neurons): # j - output neuron\n",
    "    for i in range(x_pixel**2): # i - input neuron\n",
    "      I[j] = 0\n",
    "      I[j] += np.dot(W[i][j],in_spikes[i][t])\n",
    "      \n",
    "      if t >= neu.initRefrac:\n",
    "      \n",
    "        v = neu.vprev + (-neu.vprev + I[j]*neu.R) / neu.tau_m * dt\n",
    "        \n",
    "        if v >= neu.v_thresh:\n",
    "          neu.num+=1\n",
    "          out_spikes[j][t]= 1\n",
    "          v += neu.v_spike\n",
    "          neu.initRefrac = t + neu.refracTime\n",
    "          v = neu.v_base\n",
    "          \n",
    "        neu.vprev = v\n",
    "\n",
    "    for i in range(x_pixel**2):   \n",
    "      for t1 in range(-1,-50,-1):\n",
    "        if 0<= t+t1<len(time):\n",
    "          if in_spikes[i][t+t1]==1:\n",
    "            W[i][j] = update(W[i][j],t1)\n",
    "      for t1 in range(1,50,1):\n",
    "        if 0<= t+t1<len(time):\n",
    "          if in_spikes[i][t+t1]==1:\n",
    "            W[i][j] = update(W[i][j],t1)\n",
    "\n"
   ]
  },
  {
   "cell_type": "code",
   "execution_count": 319,
   "id": "bde46c61",
   "metadata": {},
   "outputs": [
    {
     "data": {
      "image/png": "[encoded data removed]",
      "text/plain": [
       "<Figure size 1440x360 with 2 Axes>"
      ]
     },
     "metadata": {
      "needs_background": "light"
     },
     "output_type": "display_data"
    }
   ],
   "source": [
    "in_counts = np.count_nonzero(in_spikes,axis = 1)\n",
    "out_counts = np.count_nonzero(out_spikes, axis=1)\n",
    "\n",
    "fig, (ax1, ax2) = plt.subplots(1, 2, figsize=(20, 5))\n",
    "ax1.bar(range(in_spikes.shape[0]), in_counts)\n",
    "ax1.set_xlabel(\"input neuron number\")\n",
    "ax1.set_ylabel(\"Count of 1s\")\n",
    "\n",
    "ax2.bar(range(out_spikes.shape[0]), out_counts)\n",
    "ax2.set_xlabel(\"output neuron number\")\n",
    "ax2.set_ylabel(\"Count of 1s\")\n",
    "\n",
    "plt.show()"
   ]
  },
  {
   "attachments": {},
   "cell_type": "markdown",
   "id": "d06b99fe",
   "metadata": {},
   "source": [
    "# Testing"
   ]
  },
  {
   "cell_type": "code",
   "execution_count": 338,
   "id": "797715f9",
   "metadata": {},
   "outputs": [],
   "source": [
    "W = read_dataset()"
   ]
  },
  {
   "cell_type": "code",
   "execution_count": 339,
   "id": "abd6b7f0",
   "metadata": {},
   "outputs": [],
   "source": [
    "W[1][1] = update(W[1][1],rl(30))\n"
   ]
  },
  {
   "cell_type": "code",
   "execution_count": 341,
   "id": "7d5ddf02",
   "metadata": {},
   "outputs": [
    {
     "data": {
      "text/plain": [
       "0.09152368116911488"
      ]
     },
     "execution_count": 341,
     "metadata": {},
     "output_type": "execute_result"
    }
   ],
   "source": [
    "update(W[7][7],rl(30))"
   ]
  },
  {
   "cell_type": "code",
   "execution_count": null,
   "id": "4075781c",
   "metadata": {},
   "outputs": [],
   "source": []
  }
 ],
 "metadata": {
  "kernelspec": {
   "display_name": "Python 3",
   "language": "python",
   "name": "python3"
  },
  "language_info": {
   "codemirror_mode": {
    "name": "ipython",
    "version": 3
   },
   "file_extension": ".py",
   "mimetype": "text/x-python",
   "name": "python",
   "nbconvert_exporter": "python",
   "pygments_lexer": "ipython3",
   "version": "3.9.2"
  },
  "vscode": {
   "interpreter": {
    "hash": "aee8b7b246df8f9039afb4144a1f6fd8d2ca17a180786b69acc140d282b71a49"
   }
  }
 },
 "nbformat": 4,
 "nbformat_minor": 5
}
