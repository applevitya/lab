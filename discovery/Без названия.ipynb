{
 "cells": [
  {
   "cell_type": "code",
   "execution_count": null,
   "id": "2f25d7b0",
   "metadata": {},
   "outputs": [],
   "source": [
    "def alignment():\n",
    "    print('aligment start')\n",
    "    position = np.zeros(64)\n",
    "    position[20] = position[21] = 1\n",
    "    # Создаем массив значений\n",
    "    value = np.zeros(64)\n",
    "    values = [measure(i + 1) for i in range(len(position)) if position[i] == 1]\n",
    "    value[position == 1] = values\n",
    "    print(value[20])\n",
    "\n",
    "    # Находим максимальное значение и индекс элемента с максимальным значением\n",
    "    max_value = np.max(values)\n",
    "\n",
    "    # Первоначально все элементы не меняем\n",
    "    array = np.zeros(64)\n",
    "\n",
    "    # Пока все значения не сравняются с точностью +-0.015 для самого большого изначального числа\n",
    "    while np.any(np.abs(value[position == 1] - max_value) > 0.05):\n",
    "        # Устанавливаем 1 на месте элементов, которые необходимо изменить\n",
    "        array[position == 1] = np.where(np.abs(value[position == 1] - max_value) > 0.05, 1, array[position == 1])\n",
    "        array = array.reshape((8,8))\n",
    "        array = np.flip(array,axis=1)\n",
    "        array = array.reshape((64,))\n",
    "\n",
    "        print(array)\n",
    "\n",
    "        # Запускаем функцию изменения параметров элементов\n",
    "        dynamic_digital.led_matrix(hdwf, 6, 7, 5, list(array))\n",
    "\n",
    "        # Ждем некоторое время, чтобы изменения успели примениться\n",
    "        time.sleep(0.01)\n",
    "        dynamic_digital.led_matrix(hdwf, 6, 7, 5, led_off)\n",
    "\n",
    "        # Считываем новые значения и обновляем массив значений\n",
    "        values = [measure(i + 1) for i in range(len(position)) if position[i] == 1]\n",
    "        value[position == 1] = values\n",
    "\n",
    "    return value"
   ]
  },
  {
   "cell_type": "code",
   "execution_count": null,
   "id": "f49434b5",
   "metadata": {},
   "outputs": [],
   "source": [
    "import numpy as np"
   ]
  },
  {
   "cell_type": "code",
   "execution_count": null,
   "id": "1654874d",
   "metadata": {},
   "outputs": [],
   "source": [
    "position = np.zeros(64)\n",
    "position[20] = position[21] = 1\n",
    "\n",
    "\n",
    "value = np.zeros(64)\n",
    "values = [1.6 for i in range(len(position)) if position[i] == 1]\n",
    "value[position == 1] = values"
   ]
  },
  {
   "cell_type": "code",
   "execution_count": null,
   "id": "cb5cc087",
   "metadata": {},
   "outputs": [],
   "source": [
    "print(value)\n",
    "max_value = np.max(values)\n",
    "max_index = np.argmax(values)\n",
    "print(np.argmax(value))\n"
   ]
  },
  {
   "cell_type": "code",
   "execution_count": null,
   "id": "adc1f4ec",
   "metadata": {},
   "outputs": [],
   "source": [
    "array = np.zeros(64)\n",
    "value[21]= 0.8"
   ]
  },
  {
   "cell_type": "code",
   "execution_count": null,
   "id": "954d2ccd",
   "metadata": {},
   "outputs": [],
   "source": [
    "np.abs(value[position == 1])"
   ]
  },
  {
   "cell_type": "code",
   "execution_count": null,
   "id": "d41c6e2a",
   "metadata": {},
   "outputs": [],
   "source": [
    "array = np.zeros(64)\n",
    "array[position == 1] = np.where(np.abs(value[position == 1] - max_value) > 0.1666, 1, array[position == 1])\n",
    "array = array.reshape((8,8))\n",
    "array = np.flip(array,axis=1)\n",
    "array = array.reshape((64,))\n",
    "print(array)"
   ]
  },
  {
   "cell_type": "code",
   "execution_count": null,
   "id": "cbe5721d",
   "metadata": {},
   "outputs": [],
   "source": [
    "values = [1.3 for i in range(len(position)) if position[i] == 1]\n",
    "value[position == 1] = values"
   ]
  },
  {
   "cell_type": "code",
   "execution_count": null,
   "id": "095c6b3a",
   "metadata": {},
   "outputs": [],
   "source": [
    "print(value)"
   ]
  },
  {
   "cell_type": "code",
   "execution_count": null,
   "id": "761b6e9b",
   "metadata": {},
   "outputs": [],
   "source": [
    "array = np.zeros(64)\n",
    "array[position == 1] = np.where(np.abs(value[position == 1] - max_value) > 0.1666, 1, array[position == 1])\n",
    "array = array.reshape((8,8))\n",
    "array = np.flip(array,axis=1)\n",
    "array = array.reshape((64,))\n",
    "print(array)"
   ]
  },
  {
   "cell_type": "code",
   "execution_count": null,
   "id": "bd3d9cd6",
   "metadata": {},
   "outputs": [],
   "source": []
  },
  {
   "cell_type": "code",
   "execution_count": null,
   "id": "b66377e9",
   "metadata": {},
   "outputs": [],
   "source": [
    "import time\n",
    "\n",
    "# Функция measure, которая возвращает значение и текущее время\n",
    "def measure():\n",
    "    return 42  # Пример значения, замените на реальный вызов функции\n",
    "\n",
    "weights_array = []\n",
    "\n",
    "start_time = time.time()\n",
    "while len(weights_array)<10:\n",
    "    value = measure()\n",
    "    current_time = time.time() - start_time  \n",
    "    # current_time = time.strftime(\"%S\", time.localtime())\n",
    "    time.sleep(1)\n",
    "    weights_array.append((value, current_time))\n",
    "    time.sleep(1)\n",
    "    "
   ]
  },
  {
   "cell_type": "code",
   "execution_count": null,
   "id": "8bb457d6",
   "metadata": {},
   "outputs": [],
   "source": [
    "import numpy as np"
   ]
  },
  {
   "cell_type": "code",
   "execution_count": null,
   "id": "6c8a42ba",
   "metadata": {},
   "outputs": [],
   "source": [
    "weights_array"
   ]
  },
  {
   "cell_type": "code",
   "execution_count": null,
   "id": "cf675f76",
   "metadata": {},
   "outputs": [],
   "source": [
    "np.array(weights_array)"
   ]
  },
  {
   "cell_type": "code",
   "execution_count": null,
   "id": "f857c82d",
   "metadata": {},
   "outputs": [],
   "source": [
    "import numpy as np\n",
    "\n",
    "pic = np.loadtxt('experiment/start.txt')\n",
    "pic = pic*2.2987315479909154/255"
   ]
  },
  {
   "cell_type": "code",
   "execution_count": null,
   "id": "4ed11be2",
   "metadata": {},
   "outputs": [],
   "source": []
  },
  {
   "cell_type": "code",
   "execution_count": null,
   "id": "9c6b0a2f",
   "metadata": {},
   "outputs": [],
   "source": [
    "pic = pic.reshape(-1)"
   ]
  },
  {
   "cell_type": "code",
   "execution_count": null,
   "id": "21db5133",
   "metadata": {},
   "outputs": [],
   "source": [
    "indexes = list(range(19, 25)) + list(range(27, 33)) + [34] + list(range(36, 41)) + list(range(43, 49)) + list(range(49, 50))\n"
   ]
  },
  {
   "cell_type": "code",
   "execution_count": null,
   "id": "58c9e77e",
   "metadata": {},
   "outputs": [],
   "source": [
    "weights = [0] * 64"
   ]
  },
  {
   "cell_type": "code",
   "execution_count": null,
   "id": "6c9137a9",
   "metadata": {},
   "outputs": [],
   "source": [
    "for i, index in enumerate(indexes):\n",
    "    weights[index-1] = pic[i]"
   ]
  },
  {
   "cell_type": "code",
   "execution_count": null,
   "id": "a866a367",
   "metadata": {},
   "outputs": [],
   "source": [
    "weights[27-1]"
   ]
  },
  {
   "cell_type": "code",
   "execution_count": 3,
   "id": "5328a6a3",
   "metadata": {},
   "outputs": [],
   "source": [
    "import pandas as pd\n",
    "import numpy as np"
   ]
  },
  {
   "cell_type": "code",
   "execution_count": null,
   "metadata": {},
   "outputs": [],
   "source": [
    "pic = np.loadtxt('experiment/start.txt')\n",
    "pic = pic*2.2987315479909154/255\n",
    "pic.shape"
   ]
  },
  {
   "cell_type": "code",
   "execution_count": null,
   "metadata": {},
   "outputs": [],
   "source": [
    "df.drop"
   ]
  },
  {
   "cell_type": "code",
   "execution_count": null,
   "metadata": {},
   "outputs": [],
   "source": [
    "df= pd.read_csv('experiment/event.csv')\n",
    "df.drop(columns=['Unnamed: 0'])"
   ]
  },
  {
   "cell_type": "code",
   "execution_count": null,
   "metadata": {},
   "outputs": [],
   "source": [
    "df.loc[1].to_numpy()"
   ]
  },
  {
   "cell_type": "code",
   "execution_count": null,
   "metadata": {},
   "outputs": [],
   "source": [
    "for i in range(df.shape[0]):\n",
    "    print(df.loc[0])"
   ]
  },
  {
   "cell_type": "code",
   "execution_count": null,
   "metadata": {},
   "outputs": [],
   "source": []
  },
  {
   "cell_type": "code",
   "execution_count": null,
   "metadata": {},
   "outputs": [],
   "source": [
    "indexes = list(range(19, 25)) + list(range(27, 33)) + [34] + list(range(36, 41)) + list(range(43, 49)) + list(range(49, 51))"
   ]
  },
  {
   "cell_type": "code",
   "execution_count": null,
   "metadata": {},
   "outputs": [],
   "source": [
    "len(indexes)"
   ]
  },
  {
   "cell_type": "code",
   "execution_count": null,
   "metadata": {},
   "outputs": [],
   "source": [
    "pic = np.loadtxt('experiment/start.txt')\n",
    "\n",
    "pic = pic*2.2980424272707376/255\n",
    "pic = pic.reshape(-1)\n",
    "pic.shape"
   ]
  },
  {
   "cell_type": "code",
   "execution_count": null,
   "metadata": {},
   "outputs": [],
   "source": [
    "leds_array = [0]*64\n",
    "for i in range(1):\n",
    "    for j, index in enumerate(indexes):\n",
    "        leds_array = [0]*64\n",
    "        leds_array[index-1] = df.loc[1].to_numpy()[j]\n",
    "        print(leds_array[18])"
   ]
  },
  {
   "cell_type": "code",
   "execution_count": null,
   "metadata": {},
   "outputs": [],
   "source": [
    "df.loc[1].to_numpy()[0]"
   ]
  },
  {
   "cell_type": "code",
   "execution_count": null,
   "metadata": {},
   "outputs": [],
   "source": [
    "leds_array[18]"
   ]
  },
  {
   "cell_type": "code",
   "execution_count": 1,
   "metadata": {},
   "outputs": [],
   "source": [
    "w = [0]*64"
   ]
  },
  {
   "cell_type": "code",
   "execution_count": null,
   "metadata": {},
   "outputs": [],
   "source": [
    "w[64-19]"
   ]
  },
  {
   "cell_type": "code",
   "execution_count": null,
   "metadata": {},
   "outputs": [],
   "source": [
    "0 0 0 0 0 0 0 0 0 0     0 0 0 0 0 0 0 0 0 0    0 0 0 0 0 0 0 0 0 0    0 0 0 0 0 0 0 0 0 0   0 0 0 0 0 1 0 0 0 0    0 0 0 0 0 0 0 0 0 0 0 0 0 0\n",
    "\n",
    "\n",
    "\n"
   ]
  },
  {
   "cell_type": "code",
   "execution_count": 4,
   "metadata": {},
   "outputs": [],
   "source": [
    "pic = np.loadtxt('experiment/start.txt')\n",
    "\n",
    "pic = pic*2.2980424272707376/255\n",
    "pic = pic.reshape(-1)\n",
    "\n",
    "indexes = list(range(19, 25)) + list(range(27, 33)) + [34] + list(range(36, 41)) + list(range(43, 49)) + list(range(49, 50))\n",
    "weights = [0] * 64\n",
    "\n",
    "for i, index in enumerate(indexes):\n",
    "    weights[index-1] = pic[i]"
   ]
  },
  {
   "cell_type": "code",
   "execution_count": 6,
   "metadata": {},
   "outputs": [
    {
     "data": {
      "text/plain": [
       "1.05606335201556"
      ]
     },
     "execution_count": 6,
     "metadata": {},
     "output_type": "execute_result"
    }
   ],
   "source": [
    "weights[45]"
   ]
  },
  {
   "cell_type": "code",
   "execution_count": null,
   "metadata": {},
   "outputs": [],
   "source": []
  }
 ],
 "metadata": {
  "kernelspec": {
   "display_name": "Python 3 (ipykernel)",
   "language": "python",
   "name": "python3"
  },
  "language_info": {
   "codemirror_mode": {
    "name": "ipython",
    "version": 3
   },
   "file_extension": ".py",
   "mimetype": "text/x-python",
   "name": "python",
   "nbconvert_exporter": "python",
   "pygments_lexer": "ipython3",
   "version": "3.11.6"
  }
 },
 "nbformat": 4,
 "nbformat_minor": 5
}
