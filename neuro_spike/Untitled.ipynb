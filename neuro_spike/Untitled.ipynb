{
 "cells": [
  {
   "cell_type": "code",
   "execution_count": 27,
   "id": "e5f664ee",
   "metadata": {},
   "outputs": [],
   "source": [
    "import numpy as np\n",
    "import pandas as pd\n",
    "import random\n",
    "import matplotlib.pyplot as plt\n",
    "import cv2\n",
    "import csv\n",
    "import math\n",
    "from brian2 import *"
   ]
  },
  {
   "cell_type": "markdown",
   "id": "27abe155",
   "metadata": {},
   "source": [
    "## Paramets"
   ]
  },
  {
   "cell_type": "code",
   "execution_count": 33,
   "id": "afb37704",
   "metadata": {},
   "outputs": [],
   "source": [
    "num_classes = 2\n",
    "neurons_per_class = 1\n",
    "x_pixel = 8\n",
    "epochs = 1\n"
   ]
  },
  {
   "cell_type": "markdown",
   "id": "ba3cfdf8",
   "metadata": {},
   "source": [
    "## Initialize functions"
   ]
  },
  {
   "cell_type": "code",
   "execution_count": 56,
   "id": "d8718d67",
   "metadata": {},
   "outputs": [],
   "source": [
    "with open('weights.csv', 'wb') as myfile:\n",
    "  x = np.random.uniform(0,1,size = [8,8])\n",
    "  np.savetxt( \"weights.csv\", x, delimiter=\",\" )\n",
    "    \n",
    "    \n",
    "def read_img():\n",
    "\n",
    "    img = cv2.imread(\"2.png\", 0)\n",
    "    img2 = cv2.imread(\"2.png\",0)\n",
    "    img = np.ndarray.flatten(img)\n",
    "    return img\n",
    "\n",
    "\n",
    "def read_dataset():\n",
    "    df = pd.read_csv(\"weights.csv\")\n",
    "    df = df.values\n",
    "    X = df\n",
    "    y = df[:,0]\n",
    "    return X,y\n",
    "\n",
    "def recon_weights(W):\n",
    "\n",
    "    for i in range(par.hid_size):\n",
    "        temp = W[i]\n",
    "        recon = np.reshape(temp,(par.x_pixel,par.x_pixel))*255\n",
    "        cv2.imwrite(\"weights/weights\" + str(i) + \".png\",recon)\n"
   ]
  },
  {
   "cell_type": "code",
   "execution_count": 59,
   "id": "56c273ef",
   "metadata": {},
   "outputs": [
    {
     "ename": "IndexError",
     "evalue": "index 2 is out of bounds for axis 0 with size 2",
     "output_type": "error",
     "traceback": [
      "\u001b[0;31m---------------------------------------------------------------------------\u001b[0m",
      "\u001b[0;31mIndexError\u001b[0m                                Traceback (most recent call last)",
      "Cell \u001b[0;32mIn [59], line 56\u001b[0m\n\u001b[1;32m     39\u001b[0m S \u001b[38;5;241m=\u001b[39m Synapses(P, G,\n\u001b[1;32m     40\u001b[0m              \u001b[38;5;124;03m'''\u001b[39;00m\n\u001b[1;32m     41\u001b[0m \u001b[38;5;124;03m             w : 1\u001b[39;00m\n\u001b[0;32m   (...)\u001b[0m\n\u001b[1;32m     52\u001b[0m \u001b[38;5;124m             w = clip(w+apre, wmin, wmax)\u001b[39m\n\u001b[1;32m     53\u001b[0m \u001b[38;5;124m             \u001b[39m\u001b[38;5;124m'''\u001b[39m)\n\u001b[1;32m     55\u001b[0m S\u001b[38;5;241m.\u001b[39mconnect()\n\u001b[0;32m---> 56\u001b[0m S\u001b[38;5;241m.\u001b[39mw \u001b[38;5;241m=\u001b[39m \u001b[43mS_initial\u001b[49m\u001b[43m[\u001b[49m\u001b[43mj\u001b[49m\u001b[43m]\u001b[49m\n\u001b[1;32m     58\u001b[0m M \u001b[38;5;241m=\u001b[39m StateMonitor(G, \u001b[38;5;124m'\u001b[39m\u001b[38;5;124mv\u001b[39m\u001b[38;5;124m'\u001b[39m, record\u001b[38;5;241m=\u001b[39m\u001b[38;5;28;01mTrue\u001b[39;00m) \u001b[38;5;66;03m#monitors the membrane voltage\u001b[39;00m\n\u001b[1;32m     59\u001b[0m spikemon \u001b[38;5;241m=\u001b[39m SpikeMonitor(P) \u001b[38;5;66;03m#records spikes from input neurons\u001b[39;00m\n",
      "\u001b[0;31mIndexError\u001b[0m: index 2 is out of bounds for axis 0 with size 2"
     ]
    }
   ],
   "source": [
    "x = read_img()\n",
    "\n",
    "#normalizing data\n",
    "normalized = (x-np.min(x))/float(np.max(x)-np.min(x))*50 #50 Hz is the maximum firing rate\n",
    "\n",
    "#stdp parameters\n",
    "sigma = 0.3                                                                                                                                                                                                             \n",
    "taupre = 5*ms\n",
    "taupost = 8*ms\n",
    "wmax = 1.2\n",
    "wmin = -0.5\n",
    "Apre = 0.4*sigma\n",
    "Apost = -0.2*sigma\n",
    "\n",
    "#characteristics of neurons\n",
    "tau = 10*ms\n",
    "vr = 0*volt\n",
    "vt = 1.5*mV\n",
    "\n",
    "\n",
    "# equations governing the dynamics of neurons\n",
    "eqs = '''\n",
    "dv/dt = -v/tau : volt (unless refractory)\n",
    "'''\n",
    "# initializing weights\n",
    "S_initial = np.random.uniform(low=0,high=0.3,size=(2,64))\n",
    "\n",
    "for i in range(1):\n",
    "\n",
    "      for j in range(len(x)):\n",
    "\n",
    "            #output layer neuron\n",
    "            G = NeuronGroup(1, eqs, threshold='v>vt', reset='v=vr', refractory = 1.5*ms, method='linear')\n",
    "\n",
    "            #input neurons firing according to Poisson distribution with rates determined by the intensity of the corresponding input pixel\n",
    "            P = PoissonGroup(64, x[j]*Hz)\n",
    "\n",
    "            #synapse governed by the rules of STDP\n",
    "            S = Synapses(P, G,\n",
    "                         '''\n",
    "                         w : 1\n",
    "                         dapre/dt = -apre/taupre : 1 (event-driven)\n",
    "                         dapost/dt = -apost/taupost : 1 (event-driven)\n",
    "                         ''',\n",
    "                         on_pre='''\n",
    "                         v_post += w*mV\n",
    "                         apre += Apre\n",
    "                         w = clip(w+apost, wmin, wmax)\n",
    "                         ''',\n",
    "                         on_post='''\n",
    "                         apost += Apost\n",
    "                         w = clip(w+apre, wmin, wmax)\n",
    "                         ''')\n",
    "\n",
    "            S.connect()\n",
    "            S.w = S_initial[j]\n",
    "\n",
    "            M = StateMonitor(G, 'v', record=True) #monitors the membrane voltage\n",
    "            spikemon = SpikeMonitor(P) #records spikes from input neurons\n",
    "            spikemon1 = SpikeMonitor(G) #records spikes from output neurons\n",
    "            run(2*ms)\n",
    "\n",
    "            #updating the weights\n",
    "            S_initial[j] = S.w\n",
    "\n",
    "######################################################### plots ##################################################\n",
    "            # subplot(211)\n",
    "            # plot(M.t/ms, M.v[0]/volt)\n",
    "            # # plot(spikemon.t/ms, spikemon.i, '.k')\n",
    "            # subplot(212)\n",
    "            # plot(spikemon.t/ms, spikemon.i, '.k')\n",
    "            # # plot(M.t/ms, M.v[0]/volt)\n",
    "            # show()\n",
    "###################################################################################################################\n",
    "\n",
    "#reconstructing weights to analyse the training\n",
    "recon_weights(S_initial)"
   ]
  },
  {
   "cell_type": "code",
   "execution_count": null,
   "id": "ba896864",
   "metadata": {},
   "outputs": [],
   "source": []
  },
  {
   "cell_type": "code",
   "execution_count": null,
   "id": "5601efcc",
   "metadata": {},
   "outputs": [],
   "source": []
  }
 ],
 "metadata": {
  "kernelspec": {
   "display_name": "Python 3 (ipykernel)",
   "language": "python",
   "name": "python3"
  },
  "language_info": {
   "codemirror_mode": {
    "name": "ipython",
    "version": 3
   },
   "file_extension": ".py",
   "mimetype": "text/x-python",
   "name": "python",
   "nbconvert_exporter": "python",
   "pygments_lexer": "ipython3",
   "version": "3.11.0"
  }
 },
 "nbformat": 4,
 "nbformat_minor": 5
}
