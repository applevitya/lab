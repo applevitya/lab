{
 "cells": [
  {
   "cell_type": "code",
   "execution_count": null,
   "id": "2f25d7b0",
   "metadata": {},
   "outputs": [],
   "source": [
    "def alignment():\n",
    "    print('aligment start')\n",
    "    position = np.zeros(64)\n",
    "    position[20] = position[21] = 1\n",
    "    # Создаем массив значений\n",
    "    value = np.zeros(64)\n",
    "    values = [measure(i + 1) for i in range(len(position)) if position[i] == 1]\n",
    "    value[position == 1] = values\n",
    "    print(value[20])\n",
    "\n",
    "    # Находим максимальное значение и индекс элемента с максимальным значением\n",
    "    max_value = np.max(values)\n",
    "\n",
    "    # Первоначально все элементы не меняем\n",
    "    array = np.zeros(64)\n",
    "\n",
    "    # Пока все значения не сравняются с точностью +-0.015 для самого большого изначального числа\n",
    "    while np.any(np.abs(value[position == 1] - max_value) > 0.05):\n",
    "        # Устанавливаем 1 на месте элементов, которые необходимо изменить\n",
    "        array[position == 1] = np.where(np.abs(value[position == 1] - max_value) > 0.05, 1, array[position == 1])\n",
    "        array = array.reshape((8,8))\n",
    "        array = np.flip(array,axis=1)\n",
    "        array = array.reshape((64,))\n",
    "\n",
    "        print(array)\n",
    "\n",
    "        # Запускаем функцию изменения параметров элементов\n",
    "        dynamic_digital.led_matrix(hdwf, 6, 7, 5, list(array))\n",
    "\n",
    "        # Ждем некоторое время, чтобы изменения успели примениться\n",
    "        time.sleep(0.01)\n",
    "        dynamic_digital.led_matrix(hdwf, 6, 7, 5, led_off)\n",
    "\n",
    "        # Считываем новые значения и обновляем массив значений\n",
    "        values = [measure(i + 1) for i in range(len(position)) if position[i] == 1]\n",
    "        value[position == 1] = values\n",
    "\n",
    "    return value"
   ]
  },
  {
   "cell_type": "code",
   "execution_count": null,
   "id": "f49434b5",
   "metadata": {},
   "outputs": [],
   "source": [
    "import numpy as np"
   ]
  },
  {
   "cell_type": "code",
   "execution_count": null,
   "id": "1654874d",
   "metadata": {},
   "outputs": [],
   "source": [
    "position = np.zeros(64)\n",
    "position[20] = position[21] = 1\n",
    "\n",
    "\n",
    "value = np.zeros(64)\n",
    "values = [1.6 for i in range(len(position)) if position[i] == 1]\n",
    "value[position == 1] = values"
   ]
  },
  {
   "cell_type": "code",
   "execution_count": null,
   "id": "cb5cc087",
   "metadata": {},
   "outputs": [],
   "source": [
    "print(value)\n",
    "max_value = np.max(values)\n",
    "max_index = np.argmax(values)\n",
    "print(np.argmax(value))\n"
   ]
  },
  {
   "cell_type": "code",
   "execution_count": null,
   "id": "adc1f4ec",
   "metadata": {},
   "outputs": [],
   "source": [
    "array = np.zeros(64)\n",
    "value[21]= 0.8"
   ]
  },
  {
   "cell_type": "code",
   "execution_count": null,
   "id": "954d2ccd",
   "metadata": {},
   "outputs": [],
   "source": [
    "np.abs(value[position == 1])"
   ]
  },
  {
   "cell_type": "code",
   "execution_count": null,
   "id": "d41c6e2a",
   "metadata": {},
   "outputs": [],
   "source": [
    "array = np.zeros(64)\n",
    "array[position == 1] = np.where(np.abs(value[position == 1] - max_value) > 0.1666, 1, array[position == 1])\n",
    "array = array.reshape((8,8))\n",
    "array = np.flip(array,axis=1)\n",
    "array = array.reshape((64,))\n",
    "print(array)"
   ]
  },
  {
   "cell_type": "code",
   "execution_count": null,
   "id": "cbe5721d",
   "metadata": {},
   "outputs": [],
   "source": [
    "values = [1.3 for i in range(len(position)) if position[i] == 1]\n",
    "value[position == 1] = values"
   ]
  },
  {
   "cell_type": "code",
   "execution_count": null,
   "id": "095c6b3a",
   "metadata": {},
   "outputs": [],
   "source": [
    "print(value)"
   ]
  },
  {
   "cell_type": "code",
   "execution_count": null,
   "id": "761b6e9b",
   "metadata": {},
   "outputs": [],
   "source": [
    "array = np.zeros(64)\n",
    "array[position == 1] = np.where(np.abs(value[position == 1] - max_value) > 0.1666, 1, array[position == 1])\n",
    "array = array.reshape((8,8))\n",
    "array = np.flip(array,axis=1)\n",
    "array = array.reshape((64,))\n",
    "print(array)"
   ]
  },
  {
   "cell_type": "code",
   "execution_count": null,
   "id": "bd3d9cd6",
   "metadata": {},
   "outputs": [],
   "source": []
  },
  {
   "cell_type": "code",
   "execution_count": null,
   "id": "b66377e9",
   "metadata": {},
   "outputs": [],
   "source": [
    "import time\n",
    "\n",
    "# Функция measure, которая возвращает значение и текущее время\n",
    "def measure():\n",
    "    return 42  # Пример значения, замените на реальный вызов функции\n",
    "\n",
    "weights_array = []\n",
    "\n",
    "start_time = time.time()\n",
    "while len(weights_array)<10:\n",
    "    value = measure()\n",
    "    current_time = time.time() - start_time  \n",
    "    # current_time = time.strftime(\"%S\", time.localtime())\n",
    "    time.sleep(1)\n",
    "    weights_array.append((value, current_time))\n",
    "    time.sleep(1)\n",
    "    "
   ]
  },
  {
   "cell_type": "code",
   "execution_count": null,
   "id": "8bb457d6",
   "metadata": {},
   "outputs": [],
   "source": [
    "import numpy as np"
   ]
  },
  {
   "cell_type": "code",
   "execution_count": null,
   "id": "6c8a42ba",
   "metadata": {},
   "outputs": [],
   "source": [
    "weights_array"
   ]
  },
  {
   "cell_type": "code",
   "execution_count": null,
   "id": "cf675f76",
   "metadata": {},
   "outputs": [],
   "source": [
    "np.array(weights_array)"
   ]
  },
  {
   "cell_type": "code",
   "execution_count": null,
   "id": "f857c82d",
   "metadata": {},
   "outputs": [],
   "source": [
    "import numpy as np\n",
    "\n",
    "pic = np.loadtxt('experiment/start.txt')\n",
    "pic = pic*2.2987315479909154/255"
   ]
  },
  {
   "cell_type": "code",
   "execution_count": null,
   "id": "4ed11be2",
   "metadata": {},
   "outputs": [],
   "source": []
  },
  {
   "cell_type": "code",
   "execution_count": null,
   "id": "9c6b0a2f",
   "metadata": {},
   "outputs": [],
   "source": [
    "pic = pic.reshape(-1)"
   ]
  },
  {
   "cell_type": "code",
   "execution_count": null,
   "id": "21db5133",
   "metadata": {},
   "outputs": [],
   "source": [
    "indexes = list(range(19, 25)) + list(range(27, 33)) + [34] + list(range(36, 41)) + list(range(43, 49)) + list(range(49, 50))\n"
   ]
  },
  {
   "cell_type": "code",
   "execution_count": null,
   "id": "58c9e77e",
   "metadata": {},
   "outputs": [],
   "source": [
    "weights = [0] * 64"
   ]
  },
  {
   "cell_type": "code",
   "execution_count": null,
   "id": "6c9137a9",
   "metadata": {},
   "outputs": [],
   "source": [
    "for i, index in enumerate(indexes):\n",
    "    weights[index-1] = pic[i]"
   ]
  },
  {
   "cell_type": "code",
   "execution_count": null,
   "id": "a866a367",
   "metadata": {},
   "outputs": [],
   "source": [
    "weights[27-1]"
   ]
  },
  {
   "cell_type": "code",
   "execution_count": 5,
   "id": "5328a6a3",
   "metadata": {},
   "outputs": [],
   "source": [
    "import pandas as pd\n",
    "import numpy as np"
   ]
  },
  {
   "cell_type": "code",
   "execution_count": 6,
   "metadata": {},
   "outputs": [
    {
     "data": {
      "text/plain": [
       "(5, 5)"
      ]
     },
     "execution_count": 6,
     "metadata": {},
     "output_type": "execute_result"
    }
   ],
   "source": [
    "pic = np.loadtxt('experiment/start.txt')\n",
    "pic = pic*2.2987315479909154/255\n",
    "pic.shape"
   ]
  },
  {
   "cell_type": "code",
   "execution_count": 7,
   "metadata": {},
   "outputs": [
    {
     "data": {
      "text/html": [
       "<div>\n",
       "<style scoped>\n",
       "    .dataframe tbody tr th:only-of-type {\n",
       "        vertical-align: middle;\n",
       "    }\n",
       "\n",
       "    .dataframe tbody tr th {\n",
       "        vertical-align: top;\n",
       "    }\n",
       "\n",
       "    .dataframe thead th {\n",
       "        text-align: right;\n",
       "    }\n",
       "</style>\n",
       "<table border=\"1\" class=\"dataframe\">\n",
       "  <thead>\n",
       "    <tr style=\"text-align: right;\">\n",
       "      <th></th>\n",
       "      <th>0_0</th>\n",
       "      <th>0_1</th>\n",
       "      <th>0_2</th>\n",
       "      <th>0_3</th>\n",
       "      <th>0_4</th>\n",
       "      <th>1_0</th>\n",
       "      <th>1_1</th>\n",
       "      <th>1_2</th>\n",
       "      <th>1_3</th>\n",
       "      <th>1_4</th>\n",
       "      <th>...</th>\n",
       "      <th>3_0</th>\n",
       "      <th>3_1</th>\n",
       "      <th>3_2</th>\n",
       "      <th>3_3</th>\n",
       "      <th>3_4</th>\n",
       "      <th>4_0</th>\n",
       "      <th>4_1</th>\n",
       "      <th>4_2</th>\n",
       "      <th>4_3</th>\n",
       "      <th>4_4</th>\n",
       "    </tr>\n",
       "  </thead>\n",
       "  <tbody>\n",
       "    <tr>\n",
       "      <th>0</th>\n",
       "      <td>0.0</td>\n",
       "      <td>0.0</td>\n",
       "      <td>0.0</td>\n",
       "      <td>0.0</td>\n",
       "      <td>0.0</td>\n",
       "      <td>0.0</td>\n",
       "      <td>0.0</td>\n",
       "      <td>0.0</td>\n",
       "      <td>0.0</td>\n",
       "      <td>0.0</td>\n",
       "      <td>...</td>\n",
       "      <td>0.0</td>\n",
       "      <td>0.0</td>\n",
       "      <td>0.0</td>\n",
       "      <td>0.0</td>\n",
       "      <td>0.0</td>\n",
       "      <td>0.0</td>\n",
       "      <td>0.0</td>\n",
       "      <td>0.0</td>\n",
       "      <td>0.0</td>\n",
       "      <td>0.0</td>\n",
       "    </tr>\n",
       "    <tr>\n",
       "      <th>1</th>\n",
       "      <td>0.0</td>\n",
       "      <td>0.0</td>\n",
       "      <td>0.0</td>\n",
       "      <td>0.0</td>\n",
       "      <td>0.0</td>\n",
       "      <td>0.0</td>\n",
       "      <td>0.0</td>\n",
       "      <td>0.0</td>\n",
       "      <td>0.0</td>\n",
       "      <td>0.0</td>\n",
       "      <td>...</td>\n",
       "      <td>0.0</td>\n",
       "      <td>0.0</td>\n",
       "      <td>0.0</td>\n",
       "      <td>0.0</td>\n",
       "      <td>0.0</td>\n",
       "      <td>0.0</td>\n",
       "      <td>0.0</td>\n",
       "      <td>0.0</td>\n",
       "      <td>0.0</td>\n",
       "      <td>0.0</td>\n",
       "    </tr>\n",
       "    <tr>\n",
       "      <th>2</th>\n",
       "      <td>0.0</td>\n",
       "      <td>0.0</td>\n",
       "      <td>0.0</td>\n",
       "      <td>0.0</td>\n",
       "      <td>0.0</td>\n",
       "      <td>0.0</td>\n",
       "      <td>0.0</td>\n",
       "      <td>0.0</td>\n",
       "      <td>0.0</td>\n",
       "      <td>0.0</td>\n",
       "      <td>...</td>\n",
       "      <td>0.0</td>\n",
       "      <td>0.0</td>\n",
       "      <td>0.0</td>\n",
       "      <td>0.0</td>\n",
       "      <td>0.0</td>\n",
       "      <td>0.0</td>\n",
       "      <td>0.0</td>\n",
       "      <td>0.0</td>\n",
       "      <td>0.0</td>\n",
       "      <td>0.0</td>\n",
       "    </tr>\n",
       "    <tr>\n",
       "      <th>3</th>\n",
       "      <td>0.0</td>\n",
       "      <td>0.0</td>\n",
       "      <td>0.0</td>\n",
       "      <td>0.0</td>\n",
       "      <td>0.0</td>\n",
       "      <td>0.0</td>\n",
       "      <td>0.0</td>\n",
       "      <td>0.0</td>\n",
       "      <td>0.0</td>\n",
       "      <td>0.0</td>\n",
       "      <td>...</td>\n",
       "      <td>0.0</td>\n",
       "      <td>0.0</td>\n",
       "      <td>0.0</td>\n",
       "      <td>0.0</td>\n",
       "      <td>0.0</td>\n",
       "      <td>0.0</td>\n",
       "      <td>0.0</td>\n",
       "      <td>0.0</td>\n",
       "      <td>0.0</td>\n",
       "      <td>0.0</td>\n",
       "    </tr>\n",
       "    <tr>\n",
       "      <th>4</th>\n",
       "      <td>0.0</td>\n",
       "      <td>0.0</td>\n",
       "      <td>0.0</td>\n",
       "      <td>0.0</td>\n",
       "      <td>0.0</td>\n",
       "      <td>0.0</td>\n",
       "      <td>0.0</td>\n",
       "      <td>1.0</td>\n",
       "      <td>0.0</td>\n",
       "      <td>0.0</td>\n",
       "      <td>...</td>\n",
       "      <td>0.0</td>\n",
       "      <td>0.0</td>\n",
       "      <td>0.0</td>\n",
       "      <td>0.0</td>\n",
       "      <td>0.0</td>\n",
       "      <td>0.0</td>\n",
       "      <td>0.0</td>\n",
       "      <td>0.0</td>\n",
       "      <td>0.0</td>\n",
       "      <td>0.0</td>\n",
       "    </tr>\n",
       "    <tr>\n",
       "      <th>...</th>\n",
       "      <td>...</td>\n",
       "      <td>...</td>\n",
       "      <td>...</td>\n",
       "      <td>...</td>\n",
       "      <td>...</td>\n",
       "      <td>...</td>\n",
       "      <td>...</td>\n",
       "      <td>...</td>\n",
       "      <td>...</td>\n",
       "      <td>...</td>\n",
       "      <td>...</td>\n",
       "      <td>...</td>\n",
       "      <td>...</td>\n",
       "      <td>...</td>\n",
       "      <td>...</td>\n",
       "      <td>...</td>\n",
       "      <td>...</td>\n",
       "      <td>...</td>\n",
       "      <td>...</td>\n",
       "      <td>...</td>\n",
       "      <td>...</td>\n",
       "    </tr>\n",
       "    <tr>\n",
       "      <th>995</th>\n",
       "      <td>0.0</td>\n",
       "      <td>0.0</td>\n",
       "      <td>0.0</td>\n",
       "      <td>0.0</td>\n",
       "      <td>0.0</td>\n",
       "      <td>0.0</td>\n",
       "      <td>0.0</td>\n",
       "      <td>0.0</td>\n",
       "      <td>0.0</td>\n",
       "      <td>0.0</td>\n",
       "      <td>...</td>\n",
       "      <td>0.0</td>\n",
       "      <td>0.0</td>\n",
       "      <td>0.0</td>\n",
       "      <td>0.0</td>\n",
       "      <td>0.0</td>\n",
       "      <td>0.0</td>\n",
       "      <td>0.0</td>\n",
       "      <td>0.0</td>\n",
       "      <td>0.0</td>\n",
       "      <td>0.0</td>\n",
       "    </tr>\n",
       "    <tr>\n",
       "      <th>996</th>\n",
       "      <td>0.0</td>\n",
       "      <td>0.0</td>\n",
       "      <td>0.0</td>\n",
       "      <td>0.0</td>\n",
       "      <td>0.0</td>\n",
       "      <td>0.0</td>\n",
       "      <td>0.0</td>\n",
       "      <td>0.0</td>\n",
       "      <td>0.0</td>\n",
       "      <td>0.0</td>\n",
       "      <td>...</td>\n",
       "      <td>0.0</td>\n",
       "      <td>0.0</td>\n",
       "      <td>0.0</td>\n",
       "      <td>0.0</td>\n",
       "      <td>0.0</td>\n",
       "      <td>0.0</td>\n",
       "      <td>0.0</td>\n",
       "      <td>0.0</td>\n",
       "      <td>0.0</td>\n",
       "      <td>0.0</td>\n",
       "    </tr>\n",
       "    <tr>\n",
       "      <th>997</th>\n",
       "      <td>0.0</td>\n",
       "      <td>0.0</td>\n",
       "      <td>0.0</td>\n",
       "      <td>0.0</td>\n",
       "      <td>0.0</td>\n",
       "      <td>0.0</td>\n",
       "      <td>0.0</td>\n",
       "      <td>0.0</td>\n",
       "      <td>0.0</td>\n",
       "      <td>0.0</td>\n",
       "      <td>...</td>\n",
       "      <td>0.0</td>\n",
       "      <td>0.0</td>\n",
       "      <td>0.0</td>\n",
       "      <td>0.0</td>\n",
       "      <td>0.0</td>\n",
       "      <td>0.0</td>\n",
       "      <td>0.0</td>\n",
       "      <td>0.0</td>\n",
       "      <td>0.0</td>\n",
       "      <td>0.0</td>\n",
       "    </tr>\n",
       "    <tr>\n",
       "      <th>998</th>\n",
       "      <td>0.0</td>\n",
       "      <td>0.0</td>\n",
       "      <td>0.0</td>\n",
       "      <td>0.0</td>\n",
       "      <td>0.0</td>\n",
       "      <td>0.0</td>\n",
       "      <td>0.0</td>\n",
       "      <td>0.0</td>\n",
       "      <td>0.0</td>\n",
       "      <td>0.0</td>\n",
       "      <td>...</td>\n",
       "      <td>0.0</td>\n",
       "      <td>0.0</td>\n",
       "      <td>0.0</td>\n",
       "      <td>0.0</td>\n",
       "      <td>0.0</td>\n",
       "      <td>0.0</td>\n",
       "      <td>0.0</td>\n",
       "      <td>0.0</td>\n",
       "      <td>0.0</td>\n",
       "      <td>0.0</td>\n",
       "    </tr>\n",
       "    <tr>\n",
       "      <th>999</th>\n",
       "      <td>0.0</td>\n",
       "      <td>0.0</td>\n",
       "      <td>0.0</td>\n",
       "      <td>0.0</td>\n",
       "      <td>0.0</td>\n",
       "      <td>0.0</td>\n",
       "      <td>0.0</td>\n",
       "      <td>0.0</td>\n",
       "      <td>0.0</td>\n",
       "      <td>0.0</td>\n",
       "      <td>...</td>\n",
       "      <td>0.0</td>\n",
       "      <td>0.0</td>\n",
       "      <td>0.0</td>\n",
       "      <td>0.0</td>\n",
       "      <td>0.0</td>\n",
       "      <td>0.0</td>\n",
       "      <td>0.0</td>\n",
       "      <td>0.0</td>\n",
       "      <td>0.0</td>\n",
       "      <td>0.0</td>\n",
       "    </tr>\n",
       "  </tbody>\n",
       "</table>\n",
       "<p>1000 rows × 25 columns</p>\n",
       "</div>"
      ],
      "text/plain": [
       "     0_0  0_1  0_2  0_3  0_4  1_0  1_1  1_2  1_3  1_4  ...  3_0  3_1  3_2  \\\n",
       "0    0.0  0.0  0.0  0.0  0.0  0.0  0.0  0.0  0.0  0.0  ...  0.0  0.0  0.0   \n",
       "1    0.0  0.0  0.0  0.0  0.0  0.0  0.0  0.0  0.0  0.0  ...  0.0  0.0  0.0   \n",
       "2    0.0  0.0  0.0  0.0  0.0  0.0  0.0  0.0  0.0  0.0  ...  0.0  0.0  0.0   \n",
       "3    0.0  0.0  0.0  0.0  0.0  0.0  0.0  0.0  0.0  0.0  ...  0.0  0.0  0.0   \n",
       "4    0.0  0.0  0.0  0.0  0.0  0.0  0.0  1.0  0.0  0.0  ...  0.0  0.0  0.0   \n",
       "..   ...  ...  ...  ...  ...  ...  ...  ...  ...  ...  ...  ...  ...  ...   \n",
       "995  0.0  0.0  0.0  0.0  0.0  0.0  0.0  0.0  0.0  0.0  ...  0.0  0.0  0.0   \n",
       "996  0.0  0.0  0.0  0.0  0.0  0.0  0.0  0.0  0.0  0.0  ...  0.0  0.0  0.0   \n",
       "997  0.0  0.0  0.0  0.0  0.0  0.0  0.0  0.0  0.0  0.0  ...  0.0  0.0  0.0   \n",
       "998  0.0  0.0  0.0  0.0  0.0  0.0  0.0  0.0  0.0  0.0  ...  0.0  0.0  0.0   \n",
       "999  0.0  0.0  0.0  0.0  0.0  0.0  0.0  0.0  0.0  0.0  ...  0.0  0.0  0.0   \n",
       "\n",
       "     3_3  3_4  4_0  4_1  4_2  4_3  4_4  \n",
       "0    0.0  0.0  0.0  0.0  0.0  0.0  0.0  \n",
       "1    0.0  0.0  0.0  0.0  0.0  0.0  0.0  \n",
       "2    0.0  0.0  0.0  0.0  0.0  0.0  0.0  \n",
       "3    0.0  0.0  0.0  0.0  0.0  0.0  0.0  \n",
       "4    0.0  0.0  0.0  0.0  0.0  0.0  0.0  \n",
       "..   ...  ...  ...  ...  ...  ...  ...  \n",
       "995  0.0  0.0  0.0  0.0  0.0  0.0  0.0  \n",
       "996  0.0  0.0  0.0  0.0  0.0  0.0  0.0  \n",
       "997  0.0  0.0  0.0  0.0  0.0  0.0  0.0  \n",
       "998  0.0  0.0  0.0  0.0  0.0  0.0  0.0  \n",
       "999  0.0  0.0  0.0  0.0  0.0  0.0  0.0  \n",
       "\n",
       "[1000 rows x 25 columns]"
      ]
     },
     "execution_count": 7,
     "metadata": {},
     "output_type": "execute_result"
    }
   ],
   "source": [
    "df= pd.read_csv('experiment/event.csv')\n",
    "df.drop(columns=['Unnamed: 0'])"
   ]
  },
  {
   "cell_type": "code",
   "execution_count": 48,
   "metadata": {},
   "outputs": [
    {
     "data": {
      "text/plain": [
       "array([1., 0., 0., 0., 0., 0., 0., 0., 0., 0., 0., 0., 0., 0., 0., 0., 0.,\n",
       "       0., 0., 0., 0., 0., 0., 0., 0., 0.])"
      ]
     },
     "execution_count": 48,
     "metadata": {},
     "output_type": "execute_result"
    }
   ],
   "source": [
    "df.loc[1].to_numpy()"
   ]
  },
  {
   "cell_type": "code",
   "execution_count": null,
   "metadata": {},
   "outputs": [],
   "source": [
    "for i in range(df.shape[0]):\n",
    "    print(df.loc[0])"
   ]
  },
  {
   "cell_type": "code",
   "execution_count": null,
   "metadata": {},
   "outputs": [],
   "source": []
  },
  {
   "cell_type": "code",
   "execution_count": null,
   "metadata": {},
   "outputs": [],
   "source": [
    "indexes = list(range(19, 25)) + list(range(27, 33)) + [34] + list(range(36, 41)) + list(range(43, 49)) + list(range(49, 51))"
   ]
  },
  {
   "cell_type": "code",
   "execution_count": null,
   "metadata": {},
   "outputs": [],
   "source": [
    "len(indexes)"
   ]
  },
  {
   "cell_type": "code",
   "execution_count": 8,
   "metadata": {},
   "outputs": [
    {
     "data": {
      "text/plain": [
       "(25,)"
      ]
     },
     "execution_count": 8,
     "metadata": {},
     "output_type": "execute_result"
    }
   ],
   "source": [
    "pic = np.loadtxt('experiment/start.txt')\n",
    "\n",
    "pic = pic*2.2980424272707376/255\n",
    "pic = pic.reshape(-1)\n",
    "pic.shape"
   ]
  },
  {
   "cell_type": "code",
   "execution_count": 9,
   "metadata": {},
   "outputs": [
    {
     "name": "stdout",
     "output_type": "stream",
     "text": [
      "<class 'numpy.ndarray'>\n",
      "<class 'numpy.ndarray'>\n",
      "<class 'numpy.ndarray'>\n",
      "<class 'numpy.ndarray'>\n",
      "<class 'numpy.ndarray'>\n",
      "<class 'numpy.ndarray'>\n",
      "<class 'numpy.ndarray'>\n",
      "<class 'numpy.ndarray'>\n",
      "<class 'numpy.ndarray'>\n",
      "<class 'numpy.ndarray'>\n",
      "<class 'numpy.ndarray'>\n",
      "<class 'numpy.ndarray'>\n",
      "<class 'numpy.ndarray'>\n",
      "<class 'numpy.ndarray'>\n",
      "<class 'numpy.ndarray'>\n",
      "<class 'numpy.ndarray'>\n",
      "<class 'numpy.ndarray'>\n",
      "<class 'numpy.ndarray'>\n",
      "<class 'numpy.ndarray'>\n",
      "<class 'numpy.ndarray'>\n",
      "<class 'numpy.ndarray'>\n",
      "<class 'numpy.ndarray'>\n",
      "<class 'numpy.ndarray'>\n",
      "<class 'numpy.ndarray'>\n",
      "<class 'numpy.ndarray'>\n"
     ]
    }
   ],
   "source": [
    "leds_array = [0]*64\n",
    "for i in range(1):\n",
    "    for j, index in enumerate(indexes):\n",
    "        leds_array = [0]*64\n",
    "        leds_array[index-1] = df.loc[1].to_numpy()[j]\n",
    "        leds_array= np.array(leds_array)\n",
    "        print(type(leds_array))"
   ]
  },
  {
   "cell_type": "code",
   "execution_count": 10,
   "metadata": {},
   "outputs": [
    {
     "data": {
      "text/plain": [
       "1.0"
      ]
     },
     "execution_count": 10,
     "metadata": {},
     "output_type": "execute_result"
    }
   ],
   "source": [
    "df.loc[1].to_numpy()[0]"
   ]
  },
  {
   "cell_type": "code",
   "execution_count": 11,
   "metadata": {},
   "outputs": [
    {
     "data": {
      "text/plain": [
       "0.0"
      ]
     },
     "execution_count": 11,
     "metadata": {},
     "output_type": "execute_result"
    }
   ],
   "source": [
    "leds_array[18]"
   ]
  },
  {
   "cell_type": "code",
   "execution_count": 1,
   "metadata": {},
   "outputs": [],
   "source": [
    "w = [0]*64"
   ]
  },
  {
   "cell_type": "code",
   "execution_count": null,
   "metadata": {},
   "outputs": [],
   "source": [
    "w[64-19]"
   ]
  },
  {
   "cell_type": "code",
   "execution_count": null,
   "metadata": {},
   "outputs": [],
   "source": [
    "0 0 0 0 0 0 0 0 0 0     0 0 0 0 0 0 0 0 0 0    0 0 0 0 0 0 0 0 0 0    0 0 0 0 0 0 0 0 0 0   0 0 0 0 0 1 0 0 0 0    0 0 0 0 0 0 0 0 0 0 0 0 0 0\n",
    "\n",
    "\n",
    "\n"
   ]
  },
  {
   "cell_type": "code",
   "execution_count": 12,
   "metadata": {},
   "outputs": [],
   "source": [
    "pic = np.loadtxt('experiment/start.txt')\n",
    "\n",
    "pic = pic*2.2980424272707376/255\n",
    "pic = pic.reshape(-1)\n",
    "\n",
    "indexes = list(range(19, 25)) + list(range(27, 33)) + [34] + list(range(36, 41)) + list(range(43, 49)) + list(range(49, 50))\n",
    "weights = [0] * 64\n",
    "\n",
    "for i, index in enumerate(indexes):\n",
    "    weights[index-1] = pic[i]"
   ]
  },
  {
   "cell_type": "code",
   "execution_count": 41,
   "metadata": {},
   "outputs": [
    {
     "data": {
      "text/plain": [
       "0.827404043810525"
      ]
     },
     "execution_count": 41,
     "metadata": {},
     "output_type": "execute_result"
    }
   ],
   "source": [
    "weights[42]"
   ]
  },
  {
   "cell_type": "code",
   "execution_count": 2,
   "metadata": {},
   "outputs": [],
   "source": [
    "import time"
   ]
  },
  {
   "cell_type": "code",
   "execution_count": 37,
   "id": "6d2fe039",
   "metadata": {},
   "outputs": [
    {
     "data": {
      "text/plain": [
       "array([1., 0., 0., 0., 0., 0., 0., 0., 0., 0., 0., 0., 0., 0., 0., 0., 0.,\n",
       "       0., 0., 0., 0., 0., 0., 0., 0., 0.])"
      ]
     },
     "execution_count": 37,
     "metadata": {},
     "output_type": "execute_result"
    }
   ],
   "source": [
    "df.loc[1].to_numpy()"
   ]
  },
  {
   "cell_type": "code",
   "execution_count": 50,
   "metadata": {},
   "outputs": [],
   "source": [
    "indexes = list(range(19, 25)) + list(range(27, 33)) + [34] + list(range(36, 41)) + list(range(43, 49)) + list(range(49, 50))\n",
    "known_indices = indexes\n",
    "weights_array = []\n",
    "\n",
    "\n",
    "\n",
    "for i in range(df.shape[0]):\n",
    "    leds_array = [0]*64\n",
    "    for j, index in enumerate(indexes):\n",
    "        leds_array[index-1] = df.loc[1].to_numpy()[j]\n",
    "        leds_array= np.array(leds_array)\n"
   ]
  },
  {
   "cell_type": "code",
   "execution_count": 51,
   "metadata": {},
   "outputs": [
    {
     "data": {
      "text/plain": [
       "(array([18]),)"
      ]
     },
     "execution_count": 51,
     "metadata": {},
     "output_type": "execute_result"
    }
   ],
   "source": [
    "np.where(leds_array==1)"
   ]
  },
  {
   "cell_type": "markdown",
   "id": "b607442e",
   "metadata": {},
   "source": [
    "Проверка кода"
   ]
  },
  {
   "cell_type": "code",
   "execution_count": 62,
   "metadata": {},
   "outputs": [],
   "source": [
    "import numpy as np\n",
    "\n",
    "# задаем картинку\n",
    "pic = np.loadtxt('experiment/start.txt')\n",
    "\n",
    "pic = pic*2.2980424272707376/255\n",
    "pic = pic.reshape(-1)\n",
    "\n",
    "indexes = list(range(19, 25)) + list(range(27, 33)) + [34] + list(range(36, 41)) + list(range(43, 49)) + list(range(49, 50))\n",
    "weights = [0] * 64\n",
    "\n",
    "for i, index in enumerate(indexes):\n",
    "    weights[index-1] = pic[i]\n",
    "\n",
    "value = [0]*64\n",
    "for i, val in enumerate(weights):\n",
    "    if val != 0:\n",
    "        if i<32:\n",
    "            value[i]= val\n",
    "        else:\n",
    "            value[i] = val"
   ]
  },
  {
   "cell_type": "code",
   "execution_count": 63,
   "id": "3861e184",
   "metadata": {},
   "outputs": [
    {
     "data": {
      "text/plain": [
       "[1.2245784333781917,\n",
       " 0.9580453777795657,\n",
       " 2.0588293454061803,\n",
       " 0,\n",
       " 0,\n",
       " 0.827404043810525,\n",
       " 0.7912114419992837,\n",
       " 1.0478812145284213,\n",
       " 1.05606335201556,\n",
       " 0.6898358322602487,\n",
       " 1.1734284677493394,\n",
       " 0.41826673012888566]"
      ]
     },
     "execution_count": 63,
     "metadata": {},
     "output_type": "execute_result"
    }
   ],
   "source": [
    "value[37:49]"
   ]
  },
  {
   "cell_type": "code",
   "execution_count": 52,
   "id": "bb3167ce",
   "metadata": {},
   "outputs": [
    {
     "data": {
      "text/plain": [
       "(array([34]),)"
      ]
     },
     "execution_count": 52,
     "metadata": {},
     "output_type": "execute_result"
    }
   ],
   "source": [
    "f = np.array([0, 0, 0, 0, 0, 0, 0, 0, 0, 0, 0, 0, 0, 0, 0, 0, 0, 0, 0, 0, 0, 0, 0, 0, 0, 0, 0,0,0, 0, 0, 0, 0, 0, 1])\n",
    "np.where(f==1)"
   ]
  },
  {
   "cell_type": "code",
   "execution_count": 3,
   "id": "fcb31c68",
   "metadata": {},
   "outputs": [],
   "source": [
    "import numpy as np"
   ]
  },
  {
   "cell_type": "code",
   "execution_count": 38,
   "id": "0f755c34",
   "metadata": {},
   "outputs": [
    {
     "data": {
      "text/plain": [
       "32"
      ]
     },
     "execution_count": 38,
     "metadata": {},
     "output_type": "execute_result"
    }
   ],
   "source": [
    "indexes = list(range(19, 25)) + list(range(27, 33)) + [34] + list(range(36, 41)) + list(range(43, 49)) + list(range(49, 50))\n",
    "indexes = np.array(indexes)\n",
    "np.where(indexes==32)\n",
    "indexes[11]"
   ]
  },
  {
   "cell_type": "code",
   "execution_count": 45,
   "id": "14404cd5",
   "metadata": {},
   "outputs": [
    {
     "data": {
      "text/plain": [
       "array([1.11258916, 0.96724896, 1.17337791, 0.99066264, 1.08956764,\n",
       "       0.75069385, 1.04976138, 2.14462868, 1.25545015, 1.11491303,\n",
       "       0.78462564, 2.0901853 , 1.02278733, 1.98073574, 1.06529508,\n",
       "       1.22457843, 0.95804538, 2.05882935, 0.82740404, 0.79121144,\n",
       "       1.04788121, 1.05606335, 0.68983583, 1.17342847, 0.41826673])"
      ]
     },
     "execution_count": 45,
     "metadata": {},
     "output_type": "execute_result"
    }
   ],
   "source": [
    "pic = np.loadtxt('experiment/start.txt')\n",
    "pic = pic.reshape(-1)\n",
    "pic = pic*2.2980424272707376/255\n",
    "pic"
   ]
  },
  {
   "cell_type": "code",
   "execution_count": 21,
   "id": "753f553d",
   "metadata": {},
   "outputs": [
    {
     "data": {
      "text/plain": [
       "[0,\n",
       " 0,\n",
       " 0,\n",
       " 0,\n",
       " 0,\n",
       " 0,\n",
       " 0,\n",
       " 0,\n",
       " 0,\n",
       " 0,\n",
       " 0,\n",
       " 0,\n",
       " 0,\n",
       " 0,\n",
       " 0,\n",
       " 0,\n",
       " 0,\n",
       " 0,\n",
       " 123.45735303027038,\n",
       " 107.32982191513808,\n",
       " 130.2027168771173,\n",
       " 109.92789770669475,\n",
       " 120.90279335571637,\n",
       " 83.2999993216778,\n",
       " 0,\n",
       " 0,\n",
       " 116.48573087776735,\n",
       " 237.97659547301552,\n",
       " 139.3097809325108,\n",
       " 123.71521946418858,\n",
       " 87.06520613132301,\n",
       " 231.93533948631335,\n",
       " 0,\n",
       " 113.49258171529998,\n",
       " 0,\n",
       " 219.79037790980533,\n",
       " 118.20941244747974,\n",
       " 135.88413199242032,\n",
       " 106.30855567968482,\n",
       " 228.45595749165184,\n",
       " 0,\n",
       " 0,\n",
       " 91.81206955446123,\n",
       " 87.79599337051216,\n",
       " 116.27710025445357,\n",
       " 117.1850230301433,\n",
       " 76.54694932472597,\n",
       " 130.20832675898603,\n",
       " 46.41255310048295,\n",
       " 0,\n",
       " 0,\n",
       " 0,\n",
       " 0,\n",
       " 0,\n",
       " 0,\n",
       " 0,\n",
       " 0,\n",
       " 0,\n",
       " 0,\n",
       " 0,\n",
       " 0,\n",
       " 0,\n",
       " 0,\n",
       " 0]"
      ]
     },
     "execution_count": 21,
     "metadata": {},
     "output_type": "execute_result"
    }
   ],
   "source": [
    "weights = [0]*64\n",
    "for i, index in enumerate(indexes):\n",
    "    weights[index-1] = pic[i]\n",
    "\n",
    "weights"
   ]
  },
  {
   "cell_type": "code",
   "execution_count": 23,
   "id": "10066a2d",
   "metadata": {},
   "outputs": [],
   "source": [
    "value = []\n",
    "for i, val in enumerate(indexes):\n",
    "    value.append(i)"
   ]
  },
  {
   "cell_type": "code",
   "execution_count": 24,
   "id": "08931be0",
   "metadata": {},
   "outputs": [
    {
     "data": {
      "text/plain": [
       "[0,\n",
       " 1,\n",
       " 2,\n",
       " 3,\n",
       " 4,\n",
       " 5,\n",
       " 6,\n",
       " 7,\n",
       " 8,\n",
       " 9,\n",
       " 10,\n",
       " 11,\n",
       " 12,\n",
       " 13,\n",
       " 14,\n",
       " 15,\n",
       " 16,\n",
       " 17,\n",
       " 18,\n",
       " 19,\n",
       " 20,\n",
       " 21,\n",
       " 22,\n",
       " 23,\n",
       " 24]"
      ]
     },
     "execution_count": 24,
     "metadata": {},
     "output_type": "execute_result"
    }
   ],
   "source": [
    "value"
   ]
  },
  {
   "cell_type": "code",
   "execution_count": 47,
   "id": "d86c94fb",
   "metadata": {},
   "outputs": [],
   "source": [
    "import pandas as pd"
   ]
  },
  {
   "cell_type": "code",
   "execution_count": 65,
   "id": "4821c3c3",
   "metadata": {},
   "outputs": [
    {
     "data": {
      "text/plain": [
       "array([0.073])"
      ]
     },
     "execution_count": 65,
     "metadata": {},
     "output_type": "execute_result"
    }
   ],
   "source": [
    "df= pd.read_csv('experiment/event.csv') # файл с events\n",
    "df.drop(columns=['Unnamed: 0'])\n",
    "df['1_2'].sum()/df['1_2'].shape"
   ]
  },
  {
   "cell_type": "code",
   "execution_count": 90,
   "id": "2bc047e0",
   "metadata": {},
   "outputs": [
    {
     "data": {
      "text/plain": [
       "1.0"
      ]
     },
     "execution_count": 90,
     "metadata": {},
     "output_type": "execute_result"
    }
   ],
   "source": [
    "df['2_4'].sum()"
   ]
  },
  {
   "cell_type": "code",
   "execution_count": 11,
   "id": "ec2be927",
   "metadata": {},
   "outputs": [],
   "source": [
    "import numpy as np"
   ]
  },
  {
   "cell_type": "code",
   "execution_count": 2,
   "id": "8a59ead9",
   "metadata": {},
   "outputs": [
    {
     "data": {
      "text/plain": [
       "25"
      ]
     },
     "execution_count": 2,
     "metadata": {},
     "output_type": "execute_result"
    }
   ],
   "source": [
    "known_indices = list(range(19, 25)) + list(range(27, 33)) + [34] + list(range(36, 41)) + list(range(43, 49)) + list(range(49, 50))\n",
    "len(known_indices)"
   ]
  },
  {
   "cell_type": "code",
   "execution_count": 79,
   "id": "7cd697cf",
   "metadata": {},
   "outputs": [
    {
     "data": {
      "text/plain": [
       "array([[0., 0., 0., ..., 0., 0., 0.],\n",
       "       [0., 1., 0., ..., 0., 0., 0.],\n",
       "       [0., 0., 0., ..., 0., 0., 0.],\n",
       "       ...,\n",
       "       [0., 0., 0., ..., 0., 0., 0.],\n",
       "       [0., 0., 0., ..., 0., 0., 0.],\n",
       "       [0., 0., 0., ..., 0., 0., 0.]])"
      ]
     },
     "execution_count": 79,
     "metadata": {},
     "output_type": "execute_result"
    }
   ],
   "source": [
    "weights_array=np.empty(shape=(10000,len(known_indices)))\n",
    "\n",
    "weights_array[1][1]=1\n",
    "weights_array"
   ]
  },
  {
   "cell_type": "code",
   "execution_count": 71,
   "id": "91631c10",
   "metadata": {},
   "outputs": [],
   "source": [
    "for i in range(60):\n",
    "    dynamic_digital.led_matrix(hdwf, 6, 7, 5, led_on)\n",
    "    time.sleep(1)\n",
    "    dynamic_digital.led_matrix(hdwf, 6, 7, 5, led_off)\n",
    "    for j,val in enumerate(known_indices):\n",
    "        if val<33:\n",
    "            weights_array[i][j] = measure(val)\n",
    "        else:\n",
    "            weights_array[i][j] = measure_2(val)\n",
    "\n",
    "for i in arrange(60,weights_array.shape[0]):\n",
    "    time.sleep(1)\n",
    "    for j,val in enumerate(known_indices):\n",
    "        if val<33:\n",
    "            weights_array[i][j] = measure(val)\n",
    "        else:\n",
    "            weights_array[i][j] = measure_2(val)\n"
   ]
  },
  {
   "cell_type": "code",
   "execution_count": 1,
   "id": "c88ba364",
   "metadata": {},
   "outputs": [],
   "source": [
    "known_indices = list(range(19, 25)) + list(range(27, 33)) + [34] + list(range(36, 41)) + list(range(43, 49)) + list(range(49, 50))"
   ]
  },
  {
   "cell_type": "code",
   "execution_count": 12,
   "id": "5b8513f7",
   "metadata": {},
   "outputs": [
    {
     "data": {
      "text/plain": [
       "19"
      ]
     },
     "execution_count": 12,
     "metadata": {},
     "output_type": "execute_result"
    }
   ],
   "source": [
    "known_indices[0]:"
   ]
  },
  {
   "cell_type": "code",
   "execution_count": 10,
   "id": "44b723bd",
   "metadata": {},
   "outputs": [],
   "source": [
    "\n",
    "led = [0] * 64"
   ]
  },
  {
   "cell_type": "code",
   "execution_count": 20,
   "id": "01af2fcf",
   "metadata": {},
   "outputs": [],
   "source": [
    "led[known_indices[0]-1:known_indices[3]-1] = [1,1,1]"
   ]
  },
  {
   "cell_type": "code",
   "execution_count": 21,
   "id": "eb4eab70",
   "metadata": {},
   "outputs": [
    {
     "data": {
      "text/plain": [
       "1"
      ]
     },
     "execution_count": 21,
     "metadata": {},
     "output_type": "execute_result"
    }
   ],
   "source": [
    "led[18]"
   ]
  },
  {
   "cell_type": "code",
   "execution_count": null,
   "id": "e1118c90",
   "metadata": {},
   "outputs": [],
   "source": []
  }
 ],
 "metadata": {
  "kernelspec": {
   "display_name": "Python 3 (ipykernel)",
   "language": "python",
   "name": "python3"
  },
  "language_info": {
   "codemirror_mode": {
    "name": "ipython",
    "version": 3
   },
   "file_extension": ".py",
   "mimetype": "text/x-python",
   "name": "python",
   "nbconvert_exporter": "python",
   "pygments_lexer": "ipython3",
   "version": "3.11.6"
  }
 },
 "nbformat": 4,
 "nbformat_minor": 5
}
